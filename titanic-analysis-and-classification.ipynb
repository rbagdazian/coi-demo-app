{
 "cells": [
  {
   "cell_type": "code",
   "execution_count": 1,
   "id": "4b68ddf1",
   "metadata": {
    "_cell_guid": "b1076dfc-b9ad-4769-8c92-a6c4dae69d19",
    "_uuid": "8f2839f25d086af736a60e9eeb907d3b93b6e0e5",
    "execution": {
     "iopub.execute_input": "2022-08-02T16:42:48.439710Z",
     "iopub.status.busy": "2022-08-02T16:42:48.438880Z",
     "iopub.status.idle": "2022-08-02T16:42:51.121603Z",
     "shell.execute_reply": "2022-08-02T16:42:51.120420Z"
    },
    "papermill": {
     "duration": 2.704767,
     "end_time": "2022-08-02T16:42:51.124315",
     "exception": false,
     "start_time": "2022-08-02T16:42:48.419548",
     "status": "completed"
    },
    "tags": []
   },
   "outputs": [
    {
     "data": {
      "text/html": [
       "<style type='text/css'>\n",
       ".datatable table.frame { margin-bottom: 0; }\n",
       ".datatable table.frame thead { border-bottom: none; }\n",
       ".datatable table.frame tr.coltypes td {  color: #FFFFFF;  line-height: 6px;  padding: 0 0.5em;}\n",
       ".datatable .bool    { background: #DDDD99; }\n",
       ".datatable .object  { background: #565656; }\n",
       ".datatable .int     { background: #5D9E5D; }\n",
       ".datatable .float   { background: #4040CC; }\n",
       ".datatable .str     { background: #CC4040; }\n",
       ".datatable .time    { background: #40CC40; }\n",
       ".datatable .row_index {  background: var(--jp-border-color3);  border-right: 1px solid var(--jp-border-color0);  color: var(--jp-ui-font-color3);  font-size: 9px;}\n",
       ".datatable .frame tbody td { text-align: left; }\n",
       ".datatable .frame tr.coltypes .row_index {  background: var(--jp-border-color0);}\n",
       ".datatable th:nth-child(2) { padding-left: 12px; }\n",
       ".datatable .hellipsis {  color: var(--jp-cell-editor-border-color);}\n",
       ".datatable .vellipsis {  background: var(--jp-layout-color0);  color: var(--jp-cell-editor-border-color);}\n",
       ".datatable .na {  color: var(--jp-cell-editor-border-color);  font-size: 80%;}\n",
       ".datatable .sp {  opacity: 0.25;}\n",
       ".datatable .footer { font-size: 9px; }\n",
       ".datatable .frame_dimensions {  background: var(--jp-border-color3);  border-top: 1px solid var(--jp-border-color0);  color: var(--jp-ui-font-color3);  display: inline-block;  opacity: 0.6;  padding: 1px 10px 1px 5px;}\n",
       "</style>\n"
      ],
      "text/plain": [
       "<IPython.core.display.HTML object>"
      ]
     },
     "metadata": {},
     "output_type": "display_data"
    }
   ],
   "source": [
    "import numpy as np\n",
    "import pandas as pd\n",
    "import matplotlib.pyplot as plt\n",
    "import seaborn as sns\n",
    "sns.set_style(\"whitegrid\")\n",
    "\n",
    "from sklearn.preprocessing import StandardScaler\n",
    "from sklearn.model_selection import cross_validate, GridSearchCV\n",
    "from sklearn.neighbors import KNeighborsClassifier\n",
    "from sklearn.linear_model import LogisticRegression\n",
    "from sklearn.tree import DecisionTreeClassifier\n",
    "from sklearn.ensemble import RandomForestClassifier\n",
    "from sklearn.svm import SVC\n",
    "from sklearn.neural_network import MLPClassifier\n",
    "from xgboost import XGBClassifier\n",
    "from lightgbm import LGBMClassifier\n",
    "from sklearn.metrics import classification_report\n",
    "from sklearn.ensemble import AdaBoostClassifier\n",
    "from sklearn.ensemble import GradientBoostingClassifier\n",
    "from sklearn.model_selection import cross_val_score"
   ]
  },
  {
   "cell_type": "code",
   "execution_count": 2,
   "id": "6404cc61",
   "metadata": {
    "execution": {
     "iopub.execute_input": "2022-08-02T16:42:51.163427Z",
     "iopub.status.busy": "2022-08-02T16:42:51.162618Z",
     "iopub.status.idle": "2022-08-02T16:42:51.217146Z",
     "shell.execute_reply": "2022-08-02T16:42:51.215980Z"
    },
    "papermill": {
     "duration": 0.076414,
     "end_time": "2022-08-02T16:42:51.219561",
     "exception": false,
     "start_time": "2022-08-02T16:42:51.143147",
     "status": "completed"
    },
    "tags": []
   },
   "outputs": [
    {
     "data": {
      "text/html": [
       "<div>\n",
       "<style scoped>\n",
       "    .dataframe tbody tr th:only-of-type {\n",
       "        vertical-align: middle;\n",
       "    }\n",
       "\n",
       "    .dataframe tbody tr th {\n",
       "        vertical-align: top;\n",
       "    }\n",
       "\n",
       "    .dataframe thead th {\n",
       "        text-align: right;\n",
       "    }\n",
       "</style>\n",
       "<table border=\"1\" class=\"dataframe\">\n",
       "  <thead>\n",
       "    <tr style=\"text-align: right;\">\n",
       "      <th></th>\n",
       "      <th>PassengerId</th>\n",
       "      <th>Survived</th>\n",
       "      <th>Pclass</th>\n",
       "      <th>Name</th>\n",
       "      <th>Sex</th>\n",
       "      <th>Age</th>\n",
       "      <th>SibSp</th>\n",
       "      <th>Parch</th>\n",
       "      <th>Ticket</th>\n",
       "      <th>Fare</th>\n",
       "      <th>Cabin</th>\n",
       "      <th>Embarked</th>\n",
       "    </tr>\n",
       "  </thead>\n",
       "  <tbody>\n",
       "    <tr>\n",
       "      <th>0</th>\n",
       "      <td>1</td>\n",
       "      <td>0</td>\n",
       "      <td>3</td>\n",
       "      <td>Braund, Mr. Owen Harris</td>\n",
       "      <td>male</td>\n",
       "      <td>22.0</td>\n",
       "      <td>1</td>\n",
       "      <td>0</td>\n",
       "      <td>A/5 21171</td>\n",
       "      <td>7.2500</td>\n",
       "      <td>NaN</td>\n",
       "      <td>S</td>\n",
       "    </tr>\n",
       "    <tr>\n",
       "      <th>1</th>\n",
       "      <td>2</td>\n",
       "      <td>1</td>\n",
       "      <td>1</td>\n",
       "      <td>Cumings, Mrs. John Bradley (Florence Briggs Th...</td>\n",
       "      <td>female</td>\n",
       "      <td>38.0</td>\n",
       "      <td>1</td>\n",
       "      <td>0</td>\n",
       "      <td>PC 17599</td>\n",
       "      <td>71.2833</td>\n",
       "      <td>C85</td>\n",
       "      <td>C</td>\n",
       "    </tr>\n",
       "    <tr>\n",
       "      <th>2</th>\n",
       "      <td>3</td>\n",
       "      <td>1</td>\n",
       "      <td>3</td>\n",
       "      <td>Heikkinen, Miss. Laina</td>\n",
       "      <td>female</td>\n",
       "      <td>26.0</td>\n",
       "      <td>0</td>\n",
       "      <td>0</td>\n",
       "      <td>STON/O2. 3101282</td>\n",
       "      <td>7.9250</td>\n",
       "      <td>NaN</td>\n",
       "      <td>S</td>\n",
       "    </tr>\n",
       "    <tr>\n",
       "      <th>3</th>\n",
       "      <td>4</td>\n",
       "      <td>1</td>\n",
       "      <td>1</td>\n",
       "      <td>Futrelle, Mrs. Jacques Heath (Lily May Peel)</td>\n",
       "      <td>female</td>\n",
       "      <td>35.0</td>\n",
       "      <td>1</td>\n",
       "      <td>0</td>\n",
       "      <td>113803</td>\n",
       "      <td>53.1000</td>\n",
       "      <td>C123</td>\n",
       "      <td>S</td>\n",
       "    </tr>\n",
       "    <tr>\n",
       "      <th>4</th>\n",
       "      <td>5</td>\n",
       "      <td>0</td>\n",
       "      <td>3</td>\n",
       "      <td>Allen, Mr. William Henry</td>\n",
       "      <td>male</td>\n",
       "      <td>35.0</td>\n",
       "      <td>0</td>\n",
       "      <td>0</td>\n",
       "      <td>373450</td>\n",
       "      <td>8.0500</td>\n",
       "      <td>NaN</td>\n",
       "      <td>S</td>\n",
       "    </tr>\n",
       "  </tbody>\n",
       "</table>\n",
       "</div>"
      ],
      "text/plain": [
       "   PassengerId  Survived  Pclass  \\\n",
       "0            1         0       3   \n",
       "1            2         1       1   \n",
       "2            3         1       3   \n",
       "3            4         1       1   \n",
       "4            5         0       3   \n",
       "\n",
       "                                                Name     Sex   Age  SibSp  \\\n",
       "0                            Braund, Mr. Owen Harris    male  22.0      1   \n",
       "1  Cumings, Mrs. John Bradley (Florence Briggs Th...  female  38.0      1   \n",
       "2                             Heikkinen, Miss. Laina  female  26.0      0   \n",
       "3       Futrelle, Mrs. Jacques Heath (Lily May Peel)  female  35.0      1   \n",
       "4                           Allen, Mr. William Henry    male  35.0      0   \n",
       "\n",
       "   Parch            Ticket     Fare Cabin Embarked  \n",
       "0      0         A/5 21171   7.2500   NaN        S  \n",
       "1      0          PC 17599  71.2833   C85        C  \n",
       "2      0  STON/O2. 3101282   7.9250   NaN        S  \n",
       "3      0            113803  53.1000  C123        S  \n",
       "4      0            373450   8.0500   NaN        S  "
      ]
     },
     "metadata": {},
     "output_type": "display_data"
    },
    {
     "data": {
      "text/html": [
       "<div>\n",
       "<style scoped>\n",
       "    .dataframe tbody tr th:only-of-type {\n",
       "        vertical-align: middle;\n",
       "    }\n",
       "\n",
       "    .dataframe tbody tr th {\n",
       "        vertical-align: top;\n",
       "    }\n",
       "\n",
       "    .dataframe thead th {\n",
       "        text-align: right;\n",
       "    }\n",
       "</style>\n",
       "<table border=\"1\" class=\"dataframe\">\n",
       "  <thead>\n",
       "    <tr style=\"text-align: right;\">\n",
       "      <th></th>\n",
       "      <th>PassengerId</th>\n",
       "      <th>Pclass</th>\n",
       "      <th>Name</th>\n",
       "      <th>Sex</th>\n",
       "      <th>Age</th>\n",
       "      <th>SibSp</th>\n",
       "      <th>Parch</th>\n",
       "      <th>Ticket</th>\n",
       "      <th>Fare</th>\n",
       "      <th>Cabin</th>\n",
       "      <th>Embarked</th>\n",
       "    </tr>\n",
       "  </thead>\n",
       "  <tbody>\n",
       "    <tr>\n",
       "      <th>0</th>\n",
       "      <td>892</td>\n",
       "      <td>3</td>\n",
       "      <td>Kelly, Mr. James</td>\n",
       "      <td>male</td>\n",
       "      <td>34.5</td>\n",
       "      <td>0</td>\n",
       "      <td>0</td>\n",
       "      <td>330911</td>\n",
       "      <td>7.8292</td>\n",
       "      <td>NaN</td>\n",
       "      <td>Q</td>\n",
       "    </tr>\n",
       "    <tr>\n",
       "      <th>1</th>\n",
       "      <td>893</td>\n",
       "      <td>3</td>\n",
       "      <td>Wilkes, Mrs. James (Ellen Needs)</td>\n",
       "      <td>female</td>\n",
       "      <td>47.0</td>\n",
       "      <td>1</td>\n",
       "      <td>0</td>\n",
       "      <td>363272</td>\n",
       "      <td>7.0000</td>\n",
       "      <td>NaN</td>\n",
       "      <td>S</td>\n",
       "    </tr>\n",
       "    <tr>\n",
       "      <th>2</th>\n",
       "      <td>894</td>\n",
       "      <td>2</td>\n",
       "      <td>Myles, Mr. Thomas Francis</td>\n",
       "      <td>male</td>\n",
       "      <td>62.0</td>\n",
       "      <td>0</td>\n",
       "      <td>0</td>\n",
       "      <td>240276</td>\n",
       "      <td>9.6875</td>\n",
       "      <td>NaN</td>\n",
       "      <td>Q</td>\n",
       "    </tr>\n",
       "    <tr>\n",
       "      <th>3</th>\n",
       "      <td>895</td>\n",
       "      <td>3</td>\n",
       "      <td>Wirz, Mr. Albert</td>\n",
       "      <td>male</td>\n",
       "      <td>27.0</td>\n",
       "      <td>0</td>\n",
       "      <td>0</td>\n",
       "      <td>315154</td>\n",
       "      <td>8.6625</td>\n",
       "      <td>NaN</td>\n",
       "      <td>S</td>\n",
       "    </tr>\n",
       "    <tr>\n",
       "      <th>4</th>\n",
       "      <td>896</td>\n",
       "      <td>3</td>\n",
       "      <td>Hirvonen, Mrs. Alexander (Helga E Lindqvist)</td>\n",
       "      <td>female</td>\n",
       "      <td>22.0</td>\n",
       "      <td>1</td>\n",
       "      <td>1</td>\n",
       "      <td>3101298</td>\n",
       "      <td>12.2875</td>\n",
       "      <td>NaN</td>\n",
       "      <td>S</td>\n",
       "    </tr>\n",
       "  </tbody>\n",
       "</table>\n",
       "</div>"
      ],
      "text/plain": [
       "   PassengerId  Pclass                                          Name     Sex  \\\n",
       "0          892       3                              Kelly, Mr. James    male   \n",
       "1          893       3              Wilkes, Mrs. James (Ellen Needs)  female   \n",
       "2          894       2                     Myles, Mr. Thomas Francis    male   \n",
       "3          895       3                              Wirz, Mr. Albert    male   \n",
       "4          896       3  Hirvonen, Mrs. Alexander (Helga E Lindqvist)  female   \n",
       "\n",
       "    Age  SibSp  Parch   Ticket     Fare Cabin Embarked  \n",
       "0  34.5      0      0   330911   7.8292   NaN        Q  \n",
       "1  47.0      1      0   363272   7.0000   NaN        S  \n",
       "2  62.0      0      0   240276   9.6875   NaN        Q  \n",
       "3  27.0      0      0   315154   8.6625   NaN        S  \n",
       "4  22.0      1      1  3101298  12.2875   NaN        S  "
      ]
     },
     "metadata": {},
     "output_type": "display_data"
    }
   ],
   "source": [
    "df_train = pd.read_csv(\"../input/titanic/train.csv\")\n",
    "df_test = pd.read_csv(\"../input/titanic/test.csv\")\n",
    "\n",
    "display(df_train.head())\n",
    "display(df_test.head())"
   ]
  },
  {
   "cell_type": "markdown",
   "id": "07cbef31",
   "metadata": {
    "papermill": {
     "duration": 0.016679,
     "end_time": "2022-08-02T16:42:51.253263",
     "exception": false,
     "start_time": "2022-08-02T16:42:51.236584",
     "status": "completed"
    },
    "tags": []
   },
   "source": [
    "### Checking Null Values"
   ]
  },
  {
   "cell_type": "code",
   "execution_count": 3,
   "id": "b6504484",
   "metadata": {
    "execution": {
     "iopub.execute_input": "2022-08-02T16:42:51.290457Z",
     "iopub.status.busy": "2022-08-02T16:42:51.289333Z",
     "iopub.status.idle": "2022-08-02T16:42:51.380071Z",
     "shell.execute_reply": "2022-08-02T16:42:51.379016Z"
    },
    "papermill": {
     "duration": 0.112124,
     "end_time": "2022-08-02T16:42:51.382465",
     "exception": false,
     "start_time": "2022-08-02T16:42:51.270341",
     "status": "completed"
    },
    "tags": []
   },
   "outputs": [
    {
     "data": {
      "text/html": [
       "<style type=\"text/css\">\n",
       "#T_ce70d_row0_col0, #T_ce70d_row0_col1, #T_ce70d_row1_col0, #T_ce70d_row2_col0, #T_ce70d_row2_col1, #T_ce70d_row3_col0, #T_ce70d_row3_col1, #T_ce70d_row4_col0, #T_ce70d_row4_col1, #T_ce70d_row6_col0, #T_ce70d_row6_col1, #T_ce70d_row7_col0, #T_ce70d_row7_col1, #T_ce70d_row8_col0, #T_ce70d_row8_col1, #T_ce70d_row9_col0, #T_ce70d_row9_col1, #T_ce70d_row11_col0, #T_ce70d_row11_col1 {\n",
       "  background-color: #ffff66;\n",
       "  color: #000000;\n",
       "}\n",
       "#T_ce70d_row1_col1 {\n",
       "  background-color: #000000;\n",
       "  color: #f1f1f1;\n",
       "}\n",
       "#T_ce70d_row5_col0 {\n",
       "  background-color: #bede66;\n",
       "  color: #000000;\n",
       "}\n",
       "#T_ce70d_row5_col1 {\n",
       "  background-color: #bcde66;\n",
       "  color: #000000;\n",
       "}\n",
       "#T_ce70d_row10_col0, #T_ce70d_row10_col1 {\n",
       "  background-color: #008066;\n",
       "  color: #f1f1f1;\n",
       "}\n",
       "</style>\n",
       "<table id=\"T_ce70d_\">\n",
       "  <thead>\n",
       "    <tr>\n",
       "      <th class=\"blank level0\" >&nbsp;</th>\n",
       "      <th class=\"col_heading level0 col0\" >Train Null (%)</th>\n",
       "      <th class=\"col_heading level0 col1\" >Test Null (%)</th>\n",
       "    </tr>\n",
       "  </thead>\n",
       "  <tbody>\n",
       "    <tr>\n",
       "      <th id=\"T_ce70d_level0_row0\" class=\"row_heading level0 row0\" >PassengerId</th>\n",
       "      <td id=\"T_ce70d_row0_col0\" class=\"data row0 col0\" >0.000000</td>\n",
       "      <td id=\"T_ce70d_row0_col1\" class=\"data row0 col1\" >0.000000</td>\n",
       "    </tr>\n",
       "    <tr>\n",
       "      <th id=\"T_ce70d_level0_row1\" class=\"row_heading level0 row1\" >Survived</th>\n",
       "      <td id=\"T_ce70d_row1_col0\" class=\"data row1 col0\" >0.000000</td>\n",
       "      <td id=\"T_ce70d_row1_col1\" class=\"data row1 col1\" >nan</td>\n",
       "    </tr>\n",
       "    <tr>\n",
       "      <th id=\"T_ce70d_level0_row2\" class=\"row_heading level0 row2\" >Pclass</th>\n",
       "      <td id=\"T_ce70d_row2_col0\" class=\"data row2 col0\" >0.000000</td>\n",
       "      <td id=\"T_ce70d_row2_col1\" class=\"data row2 col1\" >0.000000</td>\n",
       "    </tr>\n",
       "    <tr>\n",
       "      <th id=\"T_ce70d_level0_row3\" class=\"row_heading level0 row3\" >Name</th>\n",
       "      <td id=\"T_ce70d_row3_col0\" class=\"data row3 col0\" >0.000000</td>\n",
       "      <td id=\"T_ce70d_row3_col1\" class=\"data row3 col1\" >0.000000</td>\n",
       "    </tr>\n",
       "    <tr>\n",
       "      <th id=\"T_ce70d_level0_row4\" class=\"row_heading level0 row4\" >Sex</th>\n",
       "      <td id=\"T_ce70d_row4_col0\" class=\"data row4 col0\" >0.000000</td>\n",
       "      <td id=\"T_ce70d_row4_col1\" class=\"data row4 col1\" >0.000000</td>\n",
       "    </tr>\n",
       "    <tr>\n",
       "      <th id=\"T_ce70d_level0_row5\" class=\"row_heading level0 row5\" >Age</th>\n",
       "      <td id=\"T_ce70d_row5_col0\" class=\"data row5 col0\" >19.865320</td>\n",
       "      <td id=\"T_ce70d_row5_col1\" class=\"data row5 col1\" >20.574163</td>\n",
       "    </tr>\n",
       "    <tr>\n",
       "      <th id=\"T_ce70d_level0_row6\" class=\"row_heading level0 row6\" >SibSp</th>\n",
       "      <td id=\"T_ce70d_row6_col0\" class=\"data row6 col0\" >0.000000</td>\n",
       "      <td id=\"T_ce70d_row6_col1\" class=\"data row6 col1\" >0.000000</td>\n",
       "    </tr>\n",
       "    <tr>\n",
       "      <th id=\"T_ce70d_level0_row7\" class=\"row_heading level0 row7\" >Parch</th>\n",
       "      <td id=\"T_ce70d_row7_col0\" class=\"data row7 col0\" >0.000000</td>\n",
       "      <td id=\"T_ce70d_row7_col1\" class=\"data row7 col1\" >0.000000</td>\n",
       "    </tr>\n",
       "    <tr>\n",
       "      <th id=\"T_ce70d_level0_row8\" class=\"row_heading level0 row8\" >Ticket</th>\n",
       "      <td id=\"T_ce70d_row8_col0\" class=\"data row8 col0\" >0.000000</td>\n",
       "      <td id=\"T_ce70d_row8_col1\" class=\"data row8 col1\" >0.000000</td>\n",
       "    </tr>\n",
       "    <tr>\n",
       "      <th id=\"T_ce70d_level0_row9\" class=\"row_heading level0 row9\" >Fare</th>\n",
       "      <td id=\"T_ce70d_row9_col0\" class=\"data row9 col0\" >0.000000</td>\n",
       "      <td id=\"T_ce70d_row9_col1\" class=\"data row9 col1\" >0.239234</td>\n",
       "    </tr>\n",
       "    <tr>\n",
       "      <th id=\"T_ce70d_level0_row10\" class=\"row_heading level0 row10\" >Cabin</th>\n",
       "      <td id=\"T_ce70d_row10_col0\" class=\"data row10 col0\" >77.104377</td>\n",
       "      <td id=\"T_ce70d_row10_col1\" class=\"data row10 col1\" >78.229665</td>\n",
       "    </tr>\n",
       "    <tr>\n",
       "      <th id=\"T_ce70d_level0_row11\" class=\"row_heading level0 row11\" >Embarked</th>\n",
       "      <td id=\"T_ce70d_row11_col0\" class=\"data row11 col0\" >0.224467</td>\n",
       "      <td id=\"T_ce70d_row11_col1\" class=\"data row11 col1\" >0.000000</td>\n",
       "    </tr>\n",
       "  </tbody>\n",
       "</table>\n"
      ],
      "text/plain": [
       "<pandas.io.formats.style.Styler at 0x7f1e13ad2690>"
      ]
     },
     "execution_count": 3,
     "metadata": {},
     "output_type": "execute_result"
    }
   ],
   "source": [
    "pd.DataFrame(data = [df_train.isna().sum()/df_train.shape[0]*100, df_test.isna().sum()/df_test.shape[0]*100], index=[\"Train Null (%)\", \"Test Null (%)\"]).T.style.background_gradient(cmap='summer_r')"
   ]
  },
  {
   "cell_type": "markdown",
   "id": "f42e68b0",
   "metadata": {
    "papermill": {
     "duration": 0.017399,
     "end_time": "2022-08-02T16:42:51.418071",
     "exception": false,
     "start_time": "2022-08-02T16:42:51.400672",
     "status": "completed"
    },
    "tags": []
   },
   "source": [
    "We can see that Age and Cabin variable has quite a lot of null values in both train and test data. Embarked variable in train data has 2 null values, and Fare variable in test data has 1 null value. We will need to analyze this data first to decide whether to drop this column or do some imputation."
   ]
  },
  {
   "cell_type": "code",
   "execution_count": 4,
   "id": "cb857cb4",
   "metadata": {
    "execution": {
     "iopub.execute_input": "2022-08-02T16:42:51.455151Z",
     "iopub.status.busy": "2022-08-02T16:42:51.454485Z",
     "iopub.status.idle": "2022-08-02T16:42:51.467837Z",
     "shell.execute_reply": "2022-08-02T16:42:51.466538Z"
    },
    "papermill": {
     "duration": 0.034168,
     "end_time": "2022-08-02T16:42:51.470100",
     "exception": false,
     "start_time": "2022-08-02T16:42:51.435932",
     "status": "completed"
    },
    "tags": []
   },
   "outputs": [
    {
     "name": "stdout",
     "output_type": "stream",
     "text": [
      "Train data has 0 duplicated data\n",
      "Test data has 0 duplicated data\n"
     ]
    }
   ],
   "source": [
    "print(f\"Train data has {df_train.duplicated().sum()} duplicated data\")\n",
    "print(f\"Test data has {df_test.duplicated().sum()} duplicated data\")"
   ]
  },
  {
   "cell_type": "markdown",
   "id": "8540f318",
   "metadata": {
    "papermill": {
     "duration": 0.016768,
     "end_time": "2022-08-02T16:42:51.504077",
     "exception": false,
     "start_time": "2022-08-02T16:42:51.487309",
     "status": "completed"
    },
    "tags": []
   },
   "source": [
    "No duplicated data in both train and test data. Looks good."
   ]
  },
  {
   "cell_type": "markdown",
   "id": "22cd8c47",
   "metadata": {
    "papermill": {
     "duration": 0.016832,
     "end_time": "2022-08-02T16:42:51.539710",
     "exception": false,
     "start_time": "2022-08-02T16:42:51.522878",
     "status": "completed"
    },
    "tags": []
   },
   "source": [
    "### Checking Dataset Information"
   ]
  },
  {
   "cell_type": "code",
   "execution_count": 5,
   "id": "c1fafeeb",
   "metadata": {
    "execution": {
     "iopub.execute_input": "2022-08-02T16:42:51.577985Z",
     "iopub.status.busy": "2022-08-02T16:42:51.576863Z",
     "iopub.status.idle": "2022-08-02T16:42:51.592550Z",
     "shell.execute_reply": "2022-08-02T16:42:51.591311Z"
    },
    "papermill": {
     "duration": 0.037218,
     "end_time": "2022-08-02T16:42:51.595289",
     "exception": false,
     "start_time": "2022-08-02T16:42:51.558071",
     "status": "completed"
    },
    "tags": []
   },
   "outputs": [
    {
     "name": "stdout",
     "output_type": "stream",
     "text": [
      "<class 'pandas.core.frame.DataFrame'>\n",
      "RangeIndex: 891 entries, 0 to 890\n",
      "Data columns (total 12 columns):\n",
      " #   Column       Non-Null Count  Dtype  \n",
      "---  ------       --------------  -----  \n",
      " 0   PassengerId  891 non-null    int64  \n",
      " 1   Survived     891 non-null    int64  \n",
      " 2   Pclass       891 non-null    int64  \n",
      " 3   Name         891 non-null    object \n",
      " 4   Sex          891 non-null    object \n",
      " 5   Age          714 non-null    float64\n",
      " 6   SibSp        891 non-null    int64  \n",
      " 7   Parch        891 non-null    int64  \n",
      " 8   Ticket       891 non-null    object \n",
      " 9   Fare         891 non-null    float64\n",
      " 10  Cabin        204 non-null    object \n",
      " 11  Embarked     889 non-null    object \n",
      "dtypes: float64(2), int64(5), object(5)\n",
      "memory usage: 83.7+ KB\n"
     ]
    }
   ],
   "source": [
    "df_train.info()"
   ]
  },
  {
   "cell_type": "markdown",
   "id": "69086878",
   "metadata": {
    "papermill": {
     "duration": 0.017134,
     "end_time": "2022-08-02T16:42:51.629963",
     "exception": false,
     "start_time": "2022-08-02T16:42:51.612829",
     "status": "completed"
    },
    "tags": []
   },
   "source": [
    "Looks like we have 12 variables, and each variable has 891 records. The types of variables in this dataset are as follows:\n",
    "\n",
    "**Numerical:**\n",
    "- **Discrete:**\n",
    "    1. SibSp\n",
    "    2. Parch\n",
    "    <br><br>\n",
    "    \n",
    "- **Continous:**\n",
    "    1. Age\n",
    "    2. Fare\n",
    "    <br>\n",
    "    \n",
    "**Categorical:**\n",
    "- **Nominal:**\n",
    "    1. Sex\n",
    "    2. Embarked\n",
    "    3. Survived (Target Variable)\n",
    "    <br><br>\n",
    "    \n",
    "- **Ordinal:**\n",
    "    1. Pclass\n",
    "    \n",
    "**Others:**\n",
    "- **Text**\n",
    "    1. Ticket\n",
    "    2. Name\n",
    "    <br><br>\n",
    "    \n",
    "- **ID:**\n",
    "    1. PassengerId"
   ]
  },
  {
   "cell_type": "markdown",
   "id": "396d438c",
   "metadata": {
    "papermill": {
     "duration": 0.017147,
     "end_time": "2022-08-02T16:42:51.665556",
     "exception": false,
     "start_time": "2022-08-02T16:42:51.648409",
     "status": "completed"
    },
    "tags": []
   },
   "source": [
    "# 2. Exploratory Data Analysis"
   ]
  },
  {
   "cell_type": "markdown",
   "id": "30c343d4",
   "metadata": {
    "papermill": {
     "duration": 0.016949,
     "end_time": "2022-08-02T16:42:51.699581",
     "exception": false,
     "start_time": "2022-08-02T16:42:51.682632",
     "status": "completed"
    },
    "tags": []
   },
   "source": [
    "Let's group our variable types and make two functions to visualize our numerical and categorical data first."
   ]
  },
  {
   "cell_type": "code",
   "execution_count": 6,
   "id": "7f5367b8",
   "metadata": {
    "execution": {
     "iopub.execute_input": "2022-08-02T16:42:51.736681Z",
     "iopub.status.busy": "2022-08-02T16:42:51.735669Z",
     "iopub.status.idle": "2022-08-02T16:42:51.741294Z",
     "shell.execute_reply": "2022-08-02T16:42:51.740084Z"
    },
    "papermill": {
     "duration": 0.026586,
     "end_time": "2022-08-02T16:42:51.743480",
     "exception": false,
     "start_time": "2022-08-02T16:42:51.716894",
     "status": "completed"
    },
    "tags": []
   },
   "outputs": [],
   "source": [
    "num_var = [\"SibSp\", \"Parch\", \"Age\", \"Fare\"]\n",
    "cat_var = [\"Sex\", \"Embarked\", \"Pclass\"]\n",
    "target = \"Survived\""
   ]
  },
  {
   "cell_type": "code",
   "execution_count": 7,
   "id": "604ab3e0",
   "metadata": {
    "execution": {
     "iopub.execute_input": "2022-08-02T16:42:51.780699Z",
     "iopub.status.busy": "2022-08-02T16:42:51.779967Z",
     "iopub.status.idle": "2022-08-02T16:42:51.791758Z",
     "shell.execute_reply": "2022-08-02T16:42:51.790905Z"
    },
    "papermill": {
     "duration": 0.033261,
     "end_time": "2022-08-02T16:42:51.794142",
     "exception": false,
     "start_time": "2022-08-02T16:42:51.760881",
     "status": "completed"
    },
    "tags": []
   },
   "outputs": [],
   "source": [
    "def num_dist(data, var):\n",
    "    fig, ax = plt.subplots(1, 2, figsize=(12, 4))\n",
    "\n",
    "    sns.histplot(data=data, x=var, kde=True, ax=ax[0])\n",
    "    sns.boxplot(data=data, x=var, ax=ax[1])\n",
    "    ax[0].set_title(f\"{var} Distribution Histogram\")\n",
    "    ax[1].set_title(f\"{var} Distribution Boxplot\")\n",
    "\n",
    "    plt.show()\n",
    "    \n",
    "def cat_dist(data, var):\n",
    "    fig, ax = plt.subplots(1, 2, figsize=(12, 4))\n",
    "\n",
    "    df_train[var].value_counts().plot(kind=\"pie\", explode=[0.05 for x in data[var].dropna().unique()], autopct='%1.1f%%', ax=ax[0], shadow=True)\n",
    "    ax[0].set_title(f\"{var} Pie Chart\")\n",
    "    ax[0].set_ylabel('')\n",
    "\n",
    "    count = sns.countplot(x=var, data=df_train, ax=ax[1])\n",
    "    for bar in count.patches:\n",
    "        count.annotate(format(bar.get_height()),\n",
    "            (bar.get_x() + bar.get_width() / 2,\n",
    "            bar.get_height()), ha='center', va='center',\n",
    "            size=11, xytext=(0, 8),\n",
    "            textcoords='offset points')\n",
    "    ax[1].set_title(f\"{var} Bar Chart\")\n",
    "    plt.show()"
   ]
  },
  {
   "cell_type": "markdown",
   "id": "d874b7bd",
   "metadata": {
    "papermill": {
     "duration": 0.017596,
     "end_time": "2022-08-02T16:42:51.829313",
     "exception": false,
     "start_time": "2022-08-02T16:42:51.811717",
     "status": "completed"
    },
    "tags": []
   },
   "source": [
    "## 2.1 Checking Target Distribution"
   ]
  },
  {
   "cell_type": "code",
   "execution_count": 8,
   "id": "807db164",
   "metadata": {
    "execution": {
     "iopub.execute_input": "2022-08-02T16:42:51.866065Z",
     "iopub.status.busy": "2022-08-02T16:42:51.865343Z",
     "iopub.status.idle": "2022-08-02T16:42:52.152820Z",
     "shell.execute_reply": "2022-08-02T16:42:52.151851Z"
    },
    "papermill": {
     "duration": 0.309004,
     "end_time": "2022-08-02T16:42:52.155595",
     "exception": false,
     "start_time": "2022-08-02T16:42:51.846591",
     "status": "completed"
    },
    "tags": []
   },
   "outputs": [
    {
     "data": {
      "image/png": "[encoded data removed]",
      "text/plain": [
       "<Figure size 864x288 with 2 Axes>"
      ]
     },
     "metadata": {},
     "output_type": "display_data"
    }
   ],
   "source": [
    "cat_dist(df_train, \"Survived\")"
   ]
  },
  {
   "cell_type": "markdown",
   "id": "1abfce93",
   "metadata": {
    "papermill": {
     "duration": 0.017927,
     "end_time": "2022-08-02T16:42:52.191504",
     "exception": false,
     "start_time": "2022-08-02T16:42:52.173577",
     "status": "completed"
    },
    "tags": []
   },
   "source": [
    "Unfortunately, 61,6% passengers did not survive the fatal accident. Only 342 passengers survived out of a total of 891 passengers in the training data. So, what caused them to survive the accident. We will try to analyze the features in this dataset that might be able to answer this question.\n",
    "\n",
    "So, Let's begin."
   ]
  },
  {
   "cell_type": "markdown",
   "id": "4ccfe86e",
   "metadata": {
    "papermill": {
     "duration": 0.017279,
     "end_time": "2022-08-02T16:42:52.226638",
     "exception": false,
     "start_time": "2022-08-02T16:42:52.209359",
     "status": "completed"
    },
    "tags": []
   },
   "source": [
    "## 2.2 Checking Predictor Distribution"
   ]
  },
  {
   "cell_type": "markdown",
   "id": "c037b74d",
   "metadata": {
    "papermill": {
     "duration": 0.017283,
     "end_time": "2022-08-02T16:42:52.261583",
     "exception": false,
     "start_time": "2022-08-02T16:42:52.244300",
     "status": "completed"
    },
    "tags": []
   },
   "source": [
    "### 2.2.1 Numerical"
   ]
  },
  {
   "cell_type": "code",
   "execution_count": 9,
   "id": "db58c644",
   "metadata": {
    "execution": {
     "iopub.execute_input": "2022-08-02T16:42:52.298187Z",
     "iopub.status.busy": "2022-08-02T16:42:52.297815Z",
     "iopub.status.idle": "2022-08-02T16:42:52.324639Z",
     "shell.execute_reply": "2022-08-02T16:42:52.323490Z"
    },
    "papermill": {
     "duration": 0.047973,
     "end_time": "2022-08-02T16:42:52.326985",
     "exception": false,
     "start_time": "2022-08-02T16:42:52.279012",
     "status": "completed"
    },
    "tags": []
   },
   "outputs": [
    {
     "data": {
      "text/html": [
       "<div>\n",
       "<style scoped>\n",
       "    .dataframe tbody tr th:only-of-type {\n",
       "        vertical-align: middle;\n",
       "    }\n",
       "\n",
       "    .dataframe tbody tr th {\n",
       "        vertical-align: top;\n",
       "    }\n",
       "\n",
       "    .dataframe thead th {\n",
       "        text-align: right;\n",
       "    }\n",
       "</style>\n",
       "<table border=\"1\" class=\"dataframe\">\n",
       "  <thead>\n",
       "    <tr style=\"text-align: right;\">\n",
       "      <th></th>\n",
       "      <th>SibSp</th>\n",
       "      <th>Parch</th>\n",
       "      <th>Age</th>\n",
       "      <th>Fare</th>\n",
       "    </tr>\n",
       "  </thead>\n",
       "  <tbody>\n",
       "    <tr>\n",
       "      <th>count</th>\n",
       "      <td>891.000000</td>\n",
       "      <td>891.000000</td>\n",
       "      <td>714.000000</td>\n",
       "      <td>891.000000</td>\n",
       "    </tr>\n",
       "    <tr>\n",
       "      <th>mean</th>\n",
       "      <td>0.523008</td>\n",
       "      <td>0.381594</td>\n",
       "      <td>29.699118</td>\n",
       "      <td>32.204208</td>\n",
       "    </tr>\n",
       "    <tr>\n",
       "      <th>std</th>\n",
       "      <td>1.102743</td>\n",
       "      <td>0.806057</td>\n",
       "      <td>14.526497</td>\n",
       "      <td>49.693429</td>\n",
       "    </tr>\n",
       "    <tr>\n",
       "      <th>min</th>\n",
       "      <td>0.000000</td>\n",
       "      <td>0.000000</td>\n",
       "      <td>0.420000</td>\n",
       "      <td>0.000000</td>\n",
       "    </tr>\n",
       "    <tr>\n",
       "      <th>25%</th>\n",
       "      <td>0.000000</td>\n",
       "      <td>0.000000</td>\n",
       "      <td>20.125000</td>\n",
       "      <td>7.910400</td>\n",
       "    </tr>\n",
       "    <tr>\n",
       "      <th>50%</th>\n",
       "      <td>0.000000</td>\n",
       "      <td>0.000000</td>\n",
       "      <td>28.000000</td>\n",
       "      <td>14.454200</td>\n",
       "    </tr>\n",
       "    <tr>\n",
       "      <th>75%</th>\n",
       "      <td>1.000000</td>\n",
       "      <td>0.000000</td>\n",
       "      <td>38.000000</td>\n",
       "      <td>31.000000</td>\n",
       "    </tr>\n",
       "    <tr>\n",
       "      <th>max</th>\n",
       "      <td>8.000000</td>\n",
       "      <td>6.000000</td>\n",
       "      <td>80.000000</td>\n",
       "      <td>512.329200</td>\n",
       "    </tr>\n",
       "  </tbody>\n",
       "</table>\n",
       "</div>"
      ],
      "text/plain": [
       "            SibSp       Parch         Age        Fare\n",
       "count  891.000000  891.000000  714.000000  891.000000\n",
       "mean     0.523008    0.381594   29.699118   32.204208\n",
       "std      1.102743    0.806057   14.526497   49.693429\n",
       "min      0.000000    0.000000    0.420000    0.000000\n",
       "25%      0.000000    0.000000   20.125000    7.910400\n",
       "50%      0.000000    0.000000   28.000000   14.454200\n",
       "75%      1.000000    0.000000   38.000000   31.000000\n",
       "max      8.000000    6.000000   80.000000  512.329200"
      ]
     },
     "execution_count": 9,
     "metadata": {},
     "output_type": "execute_result"
    }
   ],
   "source": [
    "df_train[num_var].describe()"
   ]
  },
  {
   "cell_type": "code",
   "execution_count": 10,
   "id": "6276a918",
   "metadata": {
    "execution": {
     "iopub.execute_input": "2022-08-02T16:42:52.364768Z",
     "iopub.status.busy": "2022-08-02T16:42:52.364010Z",
     "iopub.status.idle": "2022-08-02T16:42:54.160620Z",
     "shell.execute_reply": "2022-08-02T16:42:54.159801Z"
    },
    "papermill": {
     "duration": 1.818144,
     "end_time": "2022-08-02T16:42:54.163002",
     "exception": false,
     "start_time": "2022-08-02T16:42:52.344858",
     "status": "completed"
    },
    "tags": []
   },
   "outputs": [
    {
     "data": {
      "image/png": "[encoded data removed]",
      "text/plain": [
       "<Figure size 864x288 with 2 Axes>"
      ]
     },
     "metadata": {},
     "output_type": "display_data"
    },
    {
     "data": {
      "image/png": "[encoded data removed]",
      "text/plain": [
       "<Figure size 864x288 with 2 Axes>"
      ]
     },
     "metadata": {},
     "output_type": "display_data"
    },
    {
     "data": {
      "image/png": "[encoded data removed]",
      "text/plain": [
       "<Figure size 864x288 with 2 Axes>"
      ]
     },
     "metadata": {},
     "output_type": "display_data"
    },
    {
     "data": {
      "image/png": "[encoded data removed]",
      "text/plain": [
       "<Figure size 864x288 with 2 Axes>"
      ]
     },
     "metadata": {},
     "output_type": "display_data"
    }
   ],
   "source": [
    "for var in num_var:\n",
    "    num_dist(df_train, var)"
   ]
  },
  {
   "cell_type": "markdown",
   "id": "e8d1f448",
   "metadata": {
    "papermill": {
     "duration": 0.019343,
     "end_time": "2022-08-02T16:42:54.202026",
     "exception": false,
     "start_time": "2022-08-02T16:42:54.182683",
     "status": "completed"
    },
    "tags": []
   },
   "source": [
    "Most passengers at that time traveled alone without their families. The age of the passengers also varies from 0.42 to 80 years, with an average of 29.7 years. Fares for these passengers also vary, but what's interesting here is that there are passengers who don't have to pay for this cruise. \n",
    "\n",
    "As we can see, all of the above variables have outliers. Age variable seems to have almost a normal distribution, but there are some outliers that cause the distribution to be skewed to the right. Other variables appear to have a right skewed distribution because of that."
   ]
  },
  {
   "cell_type": "markdown",
   "id": "a81974d7",
   "metadata": {
    "papermill": {
     "duration": 0.018809,
     "end_time": "2022-08-02T16:42:54.239961",
     "exception": false,
     "start_time": "2022-08-02T16:42:54.221152",
     "status": "completed"
    },
    "tags": []
   },
   "source": [
    "### 2.2.2 Categorical"
   ]
  },
  {
   "cell_type": "code",
   "execution_count": 11,
   "id": "bba9c989",
   "metadata": {
    "execution": {
     "iopub.execute_input": "2022-08-02T16:42:54.280533Z",
     "iopub.status.busy": "2022-08-02T16:42:54.279712Z",
     "iopub.status.idle": "2022-08-02T16:42:55.090905Z",
     "shell.execute_reply": "2022-08-02T16:42:55.089815Z"
    },
    "papermill": {
     "duration": 0.83431,
     "end_time": "2022-08-02T16:42:55.093360",
     "exception": false,
     "start_time": "2022-08-02T16:42:54.259050",
     "status": "completed"
    },
    "tags": []
   },
   "outputs": [
    {
     "data": {
      "image/png": "[encoded data removed]",
      "text/plain": [
       "<Figure size 864x288 with 2 Axes>"
      ]
     },
     "metadata": {},
     "output_type": "display_data"
    },
    {
     "data": {
      "image/png": "[encoded data removed]",
      "text/plain": [
       "<Figure size 864x288 with 2 Axes>"
      ]
     },
     "metadata": {},
     "output_type": "display_data"
    },
    {
     "data": {
      "image/png": "[encoded data removed]",
      "text/plain": [
       "<Figure size 864x288 with 2 Axes>"
      ]
     },
     "metadata": {},
     "output_type": "display_data"
    }
   ],
   "source": [
    "for var in cat_var:\n",
    "    cat_dist(df_train, var)"
   ]
  },
  {
   "cell_type": "markdown",
   "id": "950995c4",
   "metadata": {
    "papermill": {
     "duration": 0.020721,
     "end_time": "2022-08-02T16:42:55.135539",
     "exception": false,
     "start_time": "2022-08-02T16:42:55.114818",
     "status": "completed"
    },
    "tags": []
   },
   "source": [
    "64.8% of the passengers in this training set are male, while the remaining 35.2% are female. More than 70% of these passengers embarked from port S (Southampton). Very few passengers embarked from port Q (Queenstown), which is only 8.7%, while the rest embarked from port C (Cherbourg). Most of the passengers have 3rd ticket class, while the number of passengers who have 1st and 2nd ticket class is almost equal."
   ]
  },
  {
   "cell_type": "markdown",
   "id": "dd9a6e21",
   "metadata": {
    "papermill": {
     "duration": 0.020972,
     "end_time": "2022-08-02T16:42:55.177134",
     "exception": false,
     "start_time": "2022-08-02T16:42:55.156162",
     "status": "completed"
    },
    "tags": []
   },
   "source": [
    "## 2.3 Survived vs Not Survived"
   ]
  },
  {
   "cell_type": "code",
   "execution_count": 12,
   "id": "e15b381a",
   "metadata": {
    "execution": {
     "iopub.execute_input": "2022-08-02T16:42:55.220219Z",
     "iopub.status.busy": "2022-08-02T16:42:55.219841Z",
     "iopub.status.idle": "2022-08-02T16:42:57.646211Z",
     "shell.execute_reply": "2022-08-02T16:42:57.644699Z"
    },
    "papermill": {
     "duration": 2.451182,
     "end_time": "2022-08-02T16:42:57.649038",
     "exception": false,
     "start_time": "2022-08-02T16:42:55.197856",
     "status": "completed"
    },
    "tags": []
   },
   "outputs": [
    {
     "data": {
      "image/png": "[encoded data removed]",
      "text/plain": [
       "<Figure size 1440x576 with 8 Axes>"
      ]
     },
     "metadata": {},
     "output_type": "display_data"
    }
   ],
   "source": [
    "fig, ax = plt.subplots(2, 4, figsize=(20, 8))\n",
    "ax = ax.flatten()\n",
    "\n",
    "for i, var in enumerate(num_var+cat_var):\n",
    "    if i < 4:\n",
    "        sns.histplot(data=df_train, x=var, hue=target, kde=True, ax=ax[i])\n",
    "    else:\n",
    "        sns.countplot(data=df_train, x=var, hue=target, ax=ax[i])\n",
    "    \n",
    "    ax[i].set_title(f\"{var}: Survived vs Not Survived\")\n",
    "    \n",
    "plt.subplots_adjust(hspace=0.5)\n",
    "plt.show()"
   ]
  },
  {
   "cell_type": "markdown",
   "id": "ee50126d",
   "metadata": {
    "papermill": {
     "duration": 0.022127,
     "end_time": "2022-08-02T16:42:57.693830",
     "exception": false,
     "start_time": "2022-08-02T16:42:57.671703",
     "status": "completed"
    },
    "tags": []
   },
   "source": [
    "Apparently, passengers who travel with small numbers of family have a greater survival chance. Also, large number of children (Age <= 10) survived in this tragedy, while passengers with the age above them tend not to survive. We can also see the number of female who survived was much more than male (women and children first code). Passengers embarked from port C seem to be luckier as many of them survived. Pclass also plays quite a role here because most of the passengers from Pclass 1 managed to survive or have more priority to be saved, while passengers with Pclass 3 tend not to survive.\n",
    "\n",
    "Now, let's get deeper."
   ]
  },
  {
   "cell_type": "code",
   "execution_count": 13,
   "id": "6b321a2a",
   "metadata": {
    "execution": {
     "iopub.execute_input": "2022-08-02T16:42:57.740732Z",
     "iopub.status.busy": "2022-08-02T16:42:57.740356Z",
     "iopub.status.idle": "2022-08-02T16:42:57.991620Z",
     "shell.execute_reply": "2022-08-02T16:42:57.990723Z"
    },
    "papermill": {
     "duration": 0.277645,
     "end_time": "2022-08-02T16:42:57.993777",
     "exception": false,
     "start_time": "2022-08-02T16:42:57.716132",
     "status": "completed"
    },
    "tags": []
   },
   "outputs": [
    {
     "data": {
      "image/png": "[encoded data removed]",
      "text/plain": [
       "<Figure size 432x288 with 1 Axes>"
      ]
     },
     "metadata": {},
     "output_type": "display_data"
    }
   ],
   "source": [
    "sns.violinplot(data=df_train, x=\"Sex\", y=\"Age\", hue=\"Survived\", split=True)\n",
    "plt.show()"
   ]
  },
  {
   "cell_type": "markdown",
   "id": "ba888acc",
   "metadata": {
    "papermill": {
     "duration": 0.022676,
     "end_time": "2022-08-02T16:42:58.039084",
     "exception": false,
     "start_time": "2022-08-02T16:42:58.016408",
     "status": "completed"
    },
    "tags": []
   },
   "source": [
    "Children survival rate for both gender seems to be good, even though the survival rate for boys is higher. For old people (Age > 60), the survival rate for old men tends to be lower, in contrast to the survival rate for old women which tends to be higher."
   ]
  },
  {
   "cell_type": "code",
   "execution_count": 14,
   "id": "cb0b8b67",
   "metadata": {
    "execution": {
     "iopub.execute_input": "2022-08-02T16:42:58.087729Z",
     "iopub.status.busy": "2022-08-02T16:42:58.086860Z",
     "iopub.status.idle": "2022-08-02T16:42:58.510262Z",
     "shell.execute_reply": "2022-08-02T16:42:58.509101Z"
    },
    "papermill": {
     "duration": 0.450901,
     "end_time": "2022-08-02T16:42:58.513067",
     "exception": false,
     "start_time": "2022-08-02T16:42:58.062166",
     "status": "completed"
    },
    "tags": []
   },
   "outputs": [
    {
     "data": {
      "image/png": "[encoded data removed]",
      "text/plain": [
       "<Figure size 864x288 with 2 Axes>"
      ]
     },
     "metadata": {},
     "output_type": "display_data"
    }
   ],
   "source": [
    "fig, ax = plt.subplots(1, 2, figsize=(12, 4))\n",
    "\n",
    "for i, var in enumerate([\"SibSp\", \"Parch\"]):\n",
    "    surv = sns.barplot(data=df_train, x=var, y=target, ax=ax[i], ci=None)\n",
    "    for bar in surv.patches:\n",
    "        surv.annotate(format(\"{:.3f}\".format(bar.get_height())),\n",
    "            (bar.get_x() + bar.get_width() / 2,\n",
    "            bar.get_height()), ha='center', va='center',\n",
    "            size=11, xytext=(0, 8),\n",
    "            textcoords='offset points')\n",
    "        \n",
    "    ax[i].set_title(f\"{var} Survival Rate\")"
   ]
  },
  {
   "cell_type": "markdown",
   "id": "0908734e",
   "metadata": {
    "papermill": {
     "duration": 0.02279,
     "end_time": "2022-08-02T16:42:58.560172",
     "exception": false,
     "start_time": "2022-08-02T16:42:58.537382",
     "status": "completed"
    },
    "tags": []
   },
   "source": [
    "The graph above shows that passengers with small numbers of family tend to survive. Meanwhile, there are only ~34% of the lone passengers (SibSpb and Parch = 0) who survived. Unfortunately, 0% passengers with SibSp > 4 survived, and almost no passengers with Parch > 3 survived."
   ]
  },
  {
   "cell_type": "code",
   "execution_count": 15,
   "id": "42468b96",
   "metadata": {
    "execution": {
     "iopub.execute_input": "2022-08-02T16:42:58.608863Z",
     "iopub.status.busy": "2022-08-02T16:42:58.608139Z",
     "iopub.status.idle": "2022-08-02T16:42:59.708339Z",
     "shell.execute_reply": "2022-08-02T16:42:59.706893Z"
    },
    "papermill": {
     "duration": 1.12764,
     "end_time": "2022-08-02T16:42:59.710880",
     "exception": false,
     "start_time": "2022-08-02T16:42:58.583240",
     "status": "completed"
    },
    "tags": []
   },
   "outputs": [
    {
     "data": {
      "image/png": "[encoded data removed]",
      "text/plain": [
       "<Figure size 1440x432 with 3 Axes>"
      ]
     },
     "metadata": {},
     "output_type": "display_data"
    }
   ],
   "source": [
    "fig, ax = plt.subplots(1, 3, figsize=(20, 6))\n",
    "\n",
    "for i, pc in enumerate(sorted(df_train[\"Pclass\"].unique())):\n",
    "    sns.histplot(data=df_train[df_train[\"Pclass\"]==pc], x=\"Fare\", hue=target, kde=True, ax=ax[i])\n",
    "    ax[i].set_title(f\"Fare in Pclass {pc} Survival Rate\")"
   ]
  },
  {
   "cell_type": "markdown",
   "id": "2fa4c90d",
   "metadata": {
    "papermill": {
     "duration": 0.023978,
     "end_time": "2022-08-02T16:42:59.759323",
     "exception": false,
     "start_time": "2022-08-02T16:42:59.735345",
     "status": "completed"
    },
    "tags": []
   },
   "source": [
    "Passengers with higher fares are more likely to survive these accidents, although some of those with the highest fares on the Pclass 2 didn't survive. Even though most of the passengers who didn't survive were those with Pclass 3, but Pclass 1 and 2 also did not guarantee passenger safety, especially for those with less fares."
   ]
  },
  {
   "cell_type": "markdown",
   "id": "625879c0",
   "metadata": {
    "papermill": {
     "duration": 0.023488,
     "end_time": "2022-08-02T16:42:59.806781",
     "exception": false,
     "start_time": "2022-08-02T16:42:59.783293",
     "status": "completed"
    },
    "tags": []
   },
   "source": [
    "# 3. Feature Engineering"
   ]
  },
  {
   "cell_type": "markdown",
   "id": "e07cd910",
   "metadata": {
    "papermill": {
     "duration": 0.023656,
     "end_time": "2022-08-02T16:42:59.854233",
     "exception": false,
     "start_time": "2022-08-02T16:42:59.830577",
     "status": "completed"
    },
    "tags": []
   },
   "source": [
    "## 3.1 PassengerId"
   ]
  },
  {
   "cell_type": "code",
   "execution_count": 16,
   "id": "2885233b",
   "metadata": {
    "execution": {
     "iopub.execute_input": "2022-08-02T16:42:59.904646Z",
     "iopub.status.busy": "2022-08-02T16:42:59.903981Z",
     "iopub.status.idle": "2022-08-02T16:42:59.913276Z",
     "shell.execute_reply": "2022-08-02T16:42:59.912068Z"
    },
    "papermill": {
     "duration": 0.037484,
     "end_time": "2022-08-02T16:42:59.915814",
     "exception": false,
     "start_time": "2022-08-02T16:42:59.878330",
     "status": "completed"
    },
    "tags": []
   },
   "outputs": [
    {
     "data": {
      "text/plain": [
       "0        1\n",
       "1        2\n",
       "2        3\n",
       "3        4\n",
       "4        5\n",
       "      ... \n",
       "886    887\n",
       "887    888\n",
       "888    889\n",
       "889    890\n",
       "890    891\n",
       "Name: PassengerId, Length: 891, dtype: int64"
      ]
     },
     "execution_count": 16,
     "metadata": {},
     "output_type": "execute_result"
    }
   ],
   "source": [
    "df_train[\"PassengerId\"]"
   ]
  },
  {
   "cell_type": "markdown",
   "id": "41cafa1b",
   "metadata": {
    "papermill": {
     "duration": 0.023833,
     "end_time": "2022-08-02T16:42:59.963962",
     "exception": false,
     "start_time": "2022-08-02T16:42:59.940129",
     "status": "completed"
    },
    "tags": []
   },
   "source": [
    "This variable only contains the unique identity number of each passenger and cannot be categorized, so we can just remove this variable."
   ]
  },
  {
   "cell_type": "code",
   "execution_count": 17,
   "id": "200874f4",
   "metadata": {
    "execution": {
     "iopub.execute_input": "2022-08-02T16:43:00.013537Z",
     "iopub.status.busy": "2022-08-02T16:43:00.013131Z",
     "iopub.status.idle": "2022-08-02T16:43:00.020163Z",
     "shell.execute_reply": "2022-08-02T16:43:00.018838Z"
    },
    "papermill": {
     "duration": 0.035436,
     "end_time": "2022-08-02T16:43:00.023045",
     "exception": false,
     "start_time": "2022-08-02T16:42:59.987609",
     "status": "completed"
    },
    "tags": []
   },
   "outputs": [],
   "source": [
    "df_train_prep = df_train.drop(\"PassengerId\", axis=1)\n",
    "df_test_prep = df_test.drop(\"PassengerId\", axis=1)"
   ]
  },
  {
   "cell_type": "markdown",
   "id": "b5f846cf",
   "metadata": {
    "papermill": {
     "duration": 0.023563,
     "end_time": "2022-08-02T16:43:00.071042",
     "exception": false,
     "start_time": "2022-08-02T16:43:00.047479",
     "status": "completed"
    },
    "tags": []
   },
   "source": [
    "## 3.2 Name"
   ]
  },
  {
   "cell_type": "code",
   "execution_count": 18,
   "id": "1d35f4c0",
   "metadata": {
    "execution": {
     "iopub.execute_input": "2022-08-02T16:43:00.121722Z",
     "iopub.status.busy": "2022-08-02T16:43:00.120836Z",
     "iopub.status.idle": "2022-08-02T16:43:00.130120Z",
     "shell.execute_reply": "2022-08-02T16:43:00.129034Z"
    },
    "papermill": {
     "duration": 0.037515,
     "end_time": "2022-08-02T16:43:00.132551",
     "exception": false,
     "start_time": "2022-08-02T16:43:00.095036",
     "status": "completed"
    },
    "tags": []
   },
   "outputs": [
    {
     "data": {
      "text/plain": [
       "0                                Braund, Mr. Owen Harris\n",
       "1      Cumings, Mrs. John Bradley (Florence Briggs Th...\n",
       "2                                 Heikkinen, Miss. Laina\n",
       "3           Futrelle, Mrs. Jacques Heath (Lily May Peel)\n",
       "4                               Allen, Mr. William Henry\n",
       "                             ...                        \n",
       "886                                Montvila, Rev. Juozas\n",
       "887                         Graham, Miss. Margaret Edith\n",
       "888             Johnston, Miss. Catherine Helen \"Carrie\"\n",
       "889                                Behr, Mr. Karl Howell\n",
       "890                                  Dooley, Mr. Patrick\n",
       "Name: Name, Length: 891, dtype: object"
      ]
     },
     "execution_count": 18,
     "metadata": {},
     "output_type": "execute_result"
    }
   ],
   "source": [
    "df_train[\"Name\"]"
   ]
  },
  {
   "cell_type": "markdown",
   "id": "bb090b9f",
   "metadata": {
    "papermill": {
     "duration": 0.023861,
     "end_time": "2022-08-02T16:43:00.180560",
     "exception": false,
     "start_time": "2022-08-02T16:43:00.156699",
     "status": "completed"
    },
    "tags": []
   },
   "source": [
    "As we can see, in the names of the passengers there is a pattern that we can extract, which is their title (Mr, Mrs, Miss, etc.). Let's extract the string value followed by dot (.)."
   ]
  },
  {
   "cell_type": "code",
   "execution_count": 19,
   "id": "a9ee1783",
   "metadata": {
    "execution": {
     "iopub.execute_input": "2022-08-02T16:43:00.231783Z",
     "iopub.status.busy": "2022-08-02T16:43:00.230984Z",
     "iopub.status.idle": "2022-08-02T16:43:00.247249Z",
     "shell.execute_reply": "2022-08-02T16:43:00.246147Z"
    },
    "papermill": {
     "duration": 0.044986,
     "end_time": "2022-08-02T16:43:00.249586",
     "exception": false,
     "start_time": "2022-08-02T16:43:00.204600",
     "status": "completed"
    },
    "tags": []
   },
   "outputs": [
    {
     "data": {
      "text/plain": [
       "Mr          517\n",
       "Miss        182\n",
       "Mrs         125\n",
       "Master       40\n",
       "Dr            7\n",
       "Rev           6\n",
       "Mlle          2\n",
       "Major         2\n",
       "Col           2\n",
       "Countess      1\n",
       "Capt          1\n",
       "Ms            1\n",
       "Sir           1\n",
       "Lady          1\n",
       "Mme           1\n",
       "Don           1\n",
       "Jonkheer      1\n",
       "Name: Title, dtype: int64"
      ]
     },
     "execution_count": 19,
     "metadata": {},
     "output_type": "execute_result"
    }
   ],
   "source": [
    "df_train_prep[\"Title\"] = df_train_prep[\"Name\"].str.extract('([A-Za-z]+)\\.')\n",
    "df_test_prep[\"Title\"] = df_test_prep[\"Name\"].str.extract('([A-Za-z]+)\\.')\n",
    "\n",
    "df_train_prep[\"Title\"].value_counts()"
   ]
  },
  {
   "cell_type": "markdown",
   "id": "a2e20032",
   "metadata": {
    "papermill": {
     "duration": 0.023843,
     "end_time": "2022-08-02T16:43:00.297391",
     "exception": false,
     "start_time": "2022-08-02T16:43:00.273548",
     "status": "completed"
    },
    "tags": []
   },
   "source": [
    "Some initials are owned by very few people, and some initials have the same meaning as others. We will group them according to the proper group."
   ]
  },
  {
   "cell_type": "code",
   "execution_count": 20,
   "id": "b5bab811",
   "metadata": {
    "execution": {
     "iopub.execute_input": "2022-08-02T16:43:00.347841Z",
     "iopub.status.busy": "2022-08-02T16:43:00.347034Z",
     "iopub.status.idle": "2022-08-02T16:43:00.359715Z",
     "shell.execute_reply": "2022-08-02T16:43:00.358690Z"
    },
    "papermill": {
     "duration": 0.040769,
     "end_time": "2022-08-02T16:43:00.362143",
     "exception": false,
     "start_time": "2022-08-02T16:43:00.321374",
     "status": "completed"
    },
    "tags": []
   },
   "outputs": [
    {
     "data": {
      "text/plain": [
       "Mr        517\n",
       "Miss      183\n",
       "Mrs       126\n",
       "Master     40\n",
       "Other      25\n",
       "Name: Title, dtype: int64"
      ]
     },
     "execution_count": 20,
     "metadata": {},
     "output_type": "execute_result"
    }
   ],
   "source": [
    "def convert_title(title):\n",
    "    if title in [\"Ms\", \"Mile\", \"Miss\"]:\n",
    "        return \"Miss\"\n",
    "    elif title in [\"Mme\", \"Mrs\"]:\n",
    "        return \"Mrs\"\n",
    "    elif title == \"Mr\":\n",
    "        return \"Mr\"\n",
    "    elif title == \"Master\":\n",
    "        return \"Master\"\n",
    "    else:\n",
    "        return \"Other\"\n",
    "        \n",
    "df_train_prep[\"Title\"] = df_train_prep[\"Title\"].map(convert_title)\n",
    "df_test_prep[\"Title\"] = df_test_prep[\"Title\"].map(convert_title)\n",
    "\n",
    "df_train_prep[\"Title\"].value_counts()"
   ]
  },
  {
   "cell_type": "markdown",
   "id": "7837b980",
   "metadata": {
    "papermill": {
     "duration": 0.023648,
     "end_time": "2022-08-02T16:43:00.409797",
     "exception": false,
     "start_time": "2022-08-02T16:43:00.386149",
     "status": "completed"
    },
    "tags": []
   },
   "source": [
    "We've got the initials of each passenger, so now the variable name is no longer needed. We can remove this variable now."
   ]
  },
  {
   "cell_type": "code",
   "execution_count": 21,
   "id": "caf829d0",
   "metadata": {
    "execution": {
     "iopub.execute_input": "2022-08-02T16:43:00.459830Z",
     "iopub.status.busy": "2022-08-02T16:43:00.459049Z",
     "iopub.status.idle": "2022-08-02T16:43:00.466580Z",
     "shell.execute_reply": "2022-08-02T16:43:00.465808Z"
    },
    "papermill": {
     "duration": 0.035359,
     "end_time": "2022-08-02T16:43:00.469003",
     "exception": false,
     "start_time": "2022-08-02T16:43:00.433644",
     "status": "completed"
    },
    "tags": []
   },
   "outputs": [],
   "source": [
    "df_train_prep = df_train_prep.drop(\"Name\", axis=1)\n",
    "df_test_prep = df_test_prep.drop(\"Name\", axis=1)"
   ]
  },
  {
   "cell_type": "markdown",
   "id": "6b98ac7d",
   "metadata": {
    "papermill": {
     "duration": 0.023562,
     "end_time": "2022-08-02T16:43:00.516539",
     "exception": false,
     "start_time": "2022-08-02T16:43:00.492977",
     "status": "completed"
    },
    "tags": []
   },
   "source": [
    "## 3.3 Ticket"
   ]
  },
  {
   "cell_type": "code",
   "execution_count": 22,
   "id": "45c51ae1",
   "metadata": {
    "execution": {
     "iopub.execute_input": "2022-08-02T16:43:00.567344Z",
     "iopub.status.busy": "2022-08-02T16:43:00.566551Z",
     "iopub.status.idle": "2022-08-02T16:43:00.575208Z",
     "shell.execute_reply": "2022-08-02T16:43:00.574313Z"
    },
    "papermill": {
     "duration": 0.036515,
     "end_time": "2022-08-02T16:43:00.577440",
     "exception": false,
     "start_time": "2022-08-02T16:43:00.540925",
     "status": "completed"
    },
    "tags": []
   },
   "outputs": [
    {
     "data": {
      "text/plain": [
       "0             A/5 21171\n",
       "1              PC 17599\n",
       "2      STON/O2. 3101282\n",
       "3                113803\n",
       "4                373450\n",
       "             ...       \n",
       "886              211536\n",
       "887              112053\n",
       "888          W./C. 6607\n",
       "889              111369\n",
       "890              370376\n",
       "Name: Ticket, Length: 891, dtype: object"
      ]
     },
     "execution_count": 22,
     "metadata": {},
     "output_type": "execute_result"
    }
   ],
   "source": [
    "df_train_prep[\"Ticket\"]"
   ]
  },
  {
   "cell_type": "markdown",
   "id": "3ed30aed",
   "metadata": {
    "papermill": {
     "duration": 0.02374,
     "end_time": "2022-08-02T16:43:00.625165",
     "exception": false,
     "start_time": "2022-08-02T16:43:00.601425",
     "status": "completed"
    },
    "tags": []
   },
   "source": [
    "This variable also only contains the unique ticket value for each passenger, and there is no pattern that we can extract. So, we'll just remove this variable."
   ]
  },
  {
   "cell_type": "code",
   "execution_count": 23,
   "id": "5de3038f",
   "metadata": {
    "execution": {
     "iopub.execute_input": "2022-08-02T16:43:00.676112Z",
     "iopub.status.busy": "2022-08-02T16:43:00.675283Z",
     "iopub.status.idle": "2022-08-02T16:43:00.682585Z",
     "shell.execute_reply": "2022-08-02T16:43:00.681787Z"
    },
    "papermill": {
     "duration": 0.035922,
     "end_time": "2022-08-02T16:43:00.685173",
     "exception": false,
     "start_time": "2022-08-02T16:43:00.649251",
     "status": "completed"
    },
    "tags": []
   },
   "outputs": [],
   "source": [
    "df_train_prep = df_train_prep.drop(\"Ticket\", axis=1)\n",
    "df_test_prep = df_test_prep.drop(\"Ticket\", axis=1)"
   ]
  },
  {
   "cell_type": "markdown",
   "id": "5f90c760",
   "metadata": {
    "papermill": {
     "duration": 0.025365,
     "end_time": "2022-08-02T16:43:00.735855",
     "exception": false,
     "start_time": "2022-08-02T16:43:00.710490",
     "status": "completed"
    },
    "tags": []
   },
   "source": [
    "## 3.4 Cabin"
   ]
  },
  {
   "cell_type": "markdown",
   "id": "2fe8b30f",
   "metadata": {
    "papermill": {
     "duration": 0.024887,
     "end_time": "2022-08-02T16:43:00.785928",
     "exception": false,
     "start_time": "2022-08-02T16:43:00.761041",
     "status": "completed"
    },
    "tags": []
   },
   "source": [
    "This variable has too many missing values in both train and test data (more than 77%), so this variable is useless. We will also remove this variable."
   ]
  },
  {
   "cell_type": "code",
   "execution_count": 24,
   "id": "d7cd5eb8",
   "metadata": {
    "execution": {
     "iopub.execute_input": "2022-08-02T16:43:00.836715Z",
     "iopub.status.busy": "2022-08-02T16:43:00.836323Z",
     "iopub.status.idle": "2022-08-02T16:43:00.844486Z",
     "shell.execute_reply": "2022-08-02T16:43:00.843332Z"
    },
    "papermill": {
     "duration": 0.03674,
     "end_time": "2022-08-02T16:43:00.847301",
     "exception": false,
     "start_time": "2022-08-02T16:43:00.810561",
     "status": "completed"
    },
    "tags": []
   },
   "outputs": [],
   "source": [
    "df_train_prep = df_train_prep.drop(\"Cabin\", axis=1)\n",
    "df_test_prep = df_test_prep.drop(\"Cabin\", axis=1)"
   ]
  },
  {
   "cell_type": "markdown",
   "id": "a9bac8f6",
   "metadata": {
    "papermill": {
     "duration": 0.024607,
     "end_time": "2022-08-02T16:43:00.896917",
     "exception": false,
     "start_time": "2022-08-02T16:43:00.872310",
     "status": "completed"
    },
    "tags": []
   },
   "source": [
    "## 3.5 Age"
   ]
  },
  {
   "cell_type": "markdown",
   "id": "1fdcf7cc",
   "metadata": {
    "papermill": {
     "duration": 0.024455,
     "end_time": "2022-08-02T16:43:00.945815",
     "exception": false,
     "start_time": "2022-08-02T16:43:00.921360",
     "status": "completed"
    },
    "tags": []
   },
   "source": [
    "The age variable has a missing value of 19.87% in the training data and 20.57% in the test data. That number is not really much, so we will try to do data imputation on this variable. So, how are we going to do that?\n",
    "\n",
    "Usually, we can just fill missing values using mean or median values. But the problem is, this dataset contains many passengers with many different ages. We just cant assign a 4 year kid or 60 years old man with the mean age that is 29 years. First, let's check the correlation between age variable with other variables."
   ]
  },
  {
   "cell_type": "code",
   "execution_count": 25,
   "id": "25d15e17",
   "metadata": {
    "execution": {
     "iopub.execute_input": "2022-08-02T16:43:00.997240Z",
     "iopub.status.busy": "2022-08-02T16:43:00.996053Z",
     "iopub.status.idle": "2022-08-02T16:43:01.006188Z",
     "shell.execute_reply": "2022-08-02T16:43:01.005164Z"
    },
    "papermill": {
     "duration": 0.038522,
     "end_time": "2022-08-02T16:43:01.008466",
     "exception": false,
     "start_time": "2022-08-02T16:43:00.969944",
     "status": "completed"
    },
    "tags": []
   },
   "outputs": [
    {
     "data": {
      "text/plain": [
       "Age         1.000000\n",
       "Fare        0.096067\n",
       "Survived   -0.077221\n",
       "Parch      -0.189119\n",
       "SibSp      -0.308247\n",
       "Pclass     -0.369226\n",
       "Name: Age, dtype: float64"
      ]
     },
     "execution_count": 25,
     "metadata": {},
     "output_type": "execute_result"
    }
   ],
   "source": [
    "df_train_prep.corr()[\"Age\"].sort_values(ascending=False)"
   ]
  },
  {
   "cell_type": "markdown",
   "id": "96a3d02b",
   "metadata": {
    "papermill": {
     "duration": 0.024862,
     "end_time": "2022-08-02T16:43:01.059041",
     "exception": false,
     "start_time": "2022-08-02T16:43:01.034179",
     "status": "completed"
    },
    "tags": []
   },
   "source": [
    "Doesn't look so good. Now let's try to check with another variable which is title variable."
   ]
  },
  {
   "cell_type": "code",
   "execution_count": 26,
   "id": "3a801c01",
   "metadata": {
    "execution": {
     "iopub.execute_input": "2022-08-02T16:43:01.110573Z",
     "iopub.status.busy": "2022-08-02T16:43:01.109232Z",
     "iopub.status.idle": "2022-08-02T16:43:01.386568Z",
     "shell.execute_reply": "2022-08-02T16:43:01.385769Z"
    },
    "papermill": {
     "duration": 0.305742,
     "end_time": "2022-08-02T16:43:01.389253",
     "exception": false,
     "start_time": "2022-08-02T16:43:01.083511",
     "status": "completed"
    },
    "tags": []
   },
   "outputs": [
    {
     "data": {
      "image/png": "[encoded data removed]",
      "text/plain": [
       "<Figure size 432x288 with 1 Axes>"
      ]
     },
     "metadata": {},
     "output_type": "display_data"
    }
   ],
   "source": [
    "sns.violinplot(data=df_train_prep, x=\"Title\", y=\"Age\")\n",
    "plt.show()"
   ]
  },
  {
   "cell_type": "markdown",
   "id": "20a4fb11",
   "metadata": {
    "papermill": {
     "duration": 0.024539,
     "end_time": "2022-08-02T16:43:01.438728",
     "exception": false,
     "start_time": "2022-08-02T16:43:01.414189",
     "status": "completed"
    },
    "tags": []
   },
   "source": [
    "That looks pretty good. We can use Title variable to classify the age of the passengers. Let's check passenger's average age based on their title."
   ]
  },
  {
   "cell_type": "code",
   "execution_count": 27,
   "id": "5e1fb5d1",
   "metadata": {
    "execution": {
     "iopub.execute_input": "2022-08-02T16:43:01.490967Z",
     "iopub.status.busy": "2022-08-02T16:43:01.490235Z",
     "iopub.status.idle": "2022-08-02T16:43:01.501181Z",
     "shell.execute_reply": "2022-08-02T16:43:01.500184Z"
    },
    "papermill": {
     "duration": 0.039655,
     "end_time": "2022-08-02T16:43:01.503297",
     "exception": false,
     "start_time": "2022-08-02T16:43:01.463642",
     "status": "completed"
    },
    "tags": []
   },
   "outputs": [
    {
     "data": {
      "text/plain": [
       "Title\n",
       "Master     4.574167\n",
       "Miss      21.816327\n",
       "Mr        32.368090\n",
       "Mrs       35.788991\n",
       "Other     43.750000\n",
       "Name: Age, dtype: float64"
      ]
     },
     "execution_count": 27,
     "metadata": {},
     "output_type": "execute_result"
    }
   ],
   "source": [
    "df_train_prep.groupby('Title')['Age'].mean()"
   ]
  },
  {
   "cell_type": "markdown",
   "id": "87b2e973",
   "metadata": {
    "papermill": {
     "duration": 0.025085,
     "end_time": "2022-08-02T16:43:01.553261",
     "exception": false,
     "start_time": "2022-08-02T16:43:01.528176",
     "status": "completed"
    },
    "tags": []
   },
   "source": [
    "Fill in the missing age value using the average passenger age for each title."
   ]
  },
  {
   "cell_type": "code",
   "execution_count": 28,
   "id": "c637a0ac",
   "metadata": {
    "execution": {
     "iopub.execute_input": "2022-08-02T16:43:01.606092Z",
     "iopub.status.busy": "2022-08-02T16:43:01.604895Z",
     "iopub.status.idle": "2022-08-02T16:43:01.618684Z",
     "shell.execute_reply": "2022-08-02T16:43:01.617779Z"
    },
    "papermill": {
     "duration": 0.042972,
     "end_time": "2022-08-02T16:43:01.621156",
     "exception": false,
     "start_time": "2022-08-02T16:43:01.578184",
     "status": "completed"
    },
    "tags": []
   },
   "outputs": [],
   "source": [
    "df_train_prep.loc[(df_train_prep.Age.isnull()) & (df_train_prep[\"Title\"]=='Master'), 'Age'] = 5\n",
    "df_train_prep.loc[(df_train_prep.Age.isnull()) & (df_train_prep[\"Title\"]=='Miss'), 'Age'] = 22\n",
    "df_train_prep.loc[(df_train_prep.Age.isnull()) & (df_train_prep[\"Title\"]=='Mr'), 'Age'] = 32\n",
    "df_train_prep.loc[(df_train_prep.Age.isnull()) & (df_train_prep[\"Title\"]=='Mrs'), 'Age'] = 36\n",
    "df_train_prep.loc[(df_train_prep.Age.isnull()) & (df_train_prep[\"Title\"]=='Other'), 'Age'] = 44"
   ]
  },
  {
   "cell_type": "code",
   "execution_count": 29,
   "id": "5478a1d6",
   "metadata": {
    "execution": {
     "iopub.execute_input": "2022-08-02T16:43:01.673819Z",
     "iopub.status.busy": "2022-08-02T16:43:01.672998Z",
     "iopub.status.idle": "2022-08-02T16:43:01.685709Z",
     "shell.execute_reply": "2022-08-02T16:43:01.684814Z"
    },
    "papermill": {
     "duration": 0.042177,
     "end_time": "2022-08-02T16:43:01.688372",
     "exception": false,
     "start_time": "2022-08-02T16:43:01.646195",
     "status": "completed"
    },
    "tags": []
   },
   "outputs": [],
   "source": [
    "df_test_prep.loc[(df_test_prep.Age.isnull())&(df_test_prep[\"Title\"]=='Master'), 'Age'] = 5\n",
    "df_test_prep.loc[(df_test_prep.Age.isnull())&(df_test_prep[\"Title\"]=='Miss'), 'Age'] = 22\n",
    "df_test_prep.loc[(df_test_prep.Age.isnull())&(df_test_prep[\"Title\"]=='Mr'), 'Age'] = 32\n",
    "df_test_prep.loc[(df_test_prep.Age.isnull())&(df_test_prep[\"Title\"]=='Mrs'), 'Age'] = 36\n",
    "df_test_prep.loc[(df_test_prep.Age.isnull())&(df_test_prep[\"Title\"]=='Other'), 'Age'] = 44"
   ]
  },
  {
   "cell_type": "markdown",
   "id": "5964d2f4",
   "metadata": {
    "papermill": {
     "duration": 0.024471,
     "end_time": "2022-08-02T16:43:01.738082",
     "exception": false,
     "start_time": "2022-08-02T16:43:01.713611",
     "status": "completed"
    },
    "tags": []
   },
   "source": [
    "## 3.6 Fare"
   ]
  },
  {
   "cell_type": "markdown",
   "id": "bf4bc7e5",
   "metadata": {
    "papermill": {
     "duration": 0.024472,
     "end_time": "2022-08-02T16:43:01.787470",
     "exception": false,
     "start_time": "2022-08-02T16:43:01.762998",
     "status": "completed"
    },
    "tags": []
   },
   "source": [
    "We know that Fare variable in test data has missing value, so we will try to impute that variable value based on train data. Let's check the correlation Fare variable with other variables."
   ]
  },
  {
   "cell_type": "code",
   "execution_count": 30,
   "id": "830116d4",
   "metadata": {
    "execution": {
     "iopub.execute_input": "2022-08-02T16:43:01.839621Z",
     "iopub.status.busy": "2022-08-02T16:43:01.838668Z",
     "iopub.status.idle": "2022-08-02T16:43:01.848473Z",
     "shell.execute_reply": "2022-08-02T16:43:01.847531Z"
    },
    "papermill": {
     "duration": 0.038509,
     "end_time": "2022-08-02T16:43:01.850773",
     "exception": false,
     "start_time": "2022-08-02T16:43:01.812264",
     "status": "completed"
    },
    "tags": []
   },
   "outputs": [
    {
     "data": {
      "text/plain": [
       "Fare        1.000000\n",
       "Survived    0.257307\n",
       "Parch       0.216225\n",
       "SibSp       0.159651\n",
       "Age         0.092122\n",
       "Pclass     -0.549500\n",
       "Name: Fare, dtype: float64"
      ]
     },
     "execution_count": 30,
     "metadata": {},
     "output_type": "execute_result"
    }
   ],
   "source": [
    "df_train_prep.corr()[\"Fare\"].sort_values(ascending=False)"
   ]
  },
  {
   "cell_type": "markdown",
   "id": "40d72aaa",
   "metadata": {
    "papermill": {
     "duration": 0.025261,
     "end_time": "2022-08-02T16:43:01.900859",
     "exception": false,
     "start_time": "2022-08-02T16:43:01.875598",
     "status": "completed"
    },
    "tags": []
   },
   "source": [
    "As we can see, Pclass variable has a relatively strong negative correlation with Fare variable. So, we will use the mean value of Fare based on the Pclass variable to fill in the missing values. "
   ]
  },
  {
   "cell_type": "code",
   "execution_count": 31,
   "id": "d8d3859a",
   "metadata": {
    "execution": {
     "iopub.execute_input": "2022-08-02T16:43:01.953167Z",
     "iopub.status.busy": "2022-08-02T16:43:01.952383Z",
     "iopub.status.idle": "2022-08-02T16:43:01.966868Z",
     "shell.execute_reply": "2022-08-02T16:43:01.965785Z"
    },
    "papermill": {
     "duration": 0.043436,
     "end_time": "2022-08-02T16:43:01.969362",
     "exception": false,
     "start_time": "2022-08-02T16:43:01.925926",
     "status": "completed"
    },
    "tags": []
   },
   "outputs": [
    {
     "data": {
      "text/html": [
       "<div>\n",
       "<style scoped>\n",
       "    .dataframe tbody tr th:only-of-type {\n",
       "        vertical-align: middle;\n",
       "    }\n",
       "\n",
       "    .dataframe tbody tr th {\n",
       "        vertical-align: top;\n",
       "    }\n",
       "\n",
       "    .dataframe thead th {\n",
       "        text-align: right;\n",
       "    }\n",
       "</style>\n",
       "<table border=\"1\" class=\"dataframe\">\n",
       "  <thead>\n",
       "    <tr style=\"text-align: right;\">\n",
       "      <th></th>\n",
       "      <th>Pclass</th>\n",
       "      <th>Sex</th>\n",
       "      <th>Age</th>\n",
       "      <th>SibSp</th>\n",
       "      <th>Parch</th>\n",
       "      <th>Fare</th>\n",
       "      <th>Embarked</th>\n",
       "      <th>Title</th>\n",
       "    </tr>\n",
       "  </thead>\n",
       "  <tbody>\n",
       "    <tr>\n",
       "      <th>152</th>\n",
       "      <td>3</td>\n",
       "      <td>male</td>\n",
       "      <td>60.5</td>\n",
       "      <td>0</td>\n",
       "      <td>0</td>\n",
       "      <td>NaN</td>\n",
       "      <td>S</td>\n",
       "      <td>Mr</td>\n",
       "    </tr>\n",
       "  </tbody>\n",
       "</table>\n",
       "</div>"
      ],
      "text/plain": [
       "     Pclass   Sex   Age  SibSp  Parch  Fare Embarked Title\n",
       "152       3  male  60.5      0      0   NaN        S    Mr"
      ]
     },
     "execution_count": 31,
     "metadata": {},
     "output_type": "execute_result"
    }
   ],
   "source": [
    "df_test_prep[df_test_prep[\"Fare\"].isna()]"
   ]
  },
  {
   "cell_type": "markdown",
   "id": "49973f36",
   "metadata": {
    "papermill": {
     "duration": 0.025221,
     "end_time": "2022-08-02T16:43:02.019781",
     "exception": false,
     "start_time": "2022-08-02T16:43:01.994560",
     "status": "completed"
    },
    "tags": []
   },
   "source": [
    "Pclass = 3"
   ]
  },
  {
   "cell_type": "code",
   "execution_count": 32,
   "id": "df52b841",
   "metadata": {
    "execution": {
     "iopub.execute_input": "2022-08-02T16:43:02.072710Z",
     "iopub.status.busy": "2022-08-02T16:43:02.071937Z",
     "iopub.status.idle": "2022-08-02T16:43:02.080224Z",
     "shell.execute_reply": "2022-08-02T16:43:02.079298Z"
    },
    "papermill": {
     "duration": 0.037612,
     "end_time": "2022-08-02T16:43:02.082691",
     "exception": false,
     "start_time": "2022-08-02T16:43:02.045079",
     "status": "completed"
    },
    "tags": []
   },
   "outputs": [],
   "source": [
    "df_test_prep.Fare.fillna(df_train.groupby(\"Pclass\").mean()[\"Fare\"][3], inplace=True)"
   ]
  },
  {
   "cell_type": "markdown",
   "id": "9e395268",
   "metadata": {
    "papermill": {
     "duration": 0.025048,
     "end_time": "2022-08-02T16:43:02.132915",
     "exception": false,
     "start_time": "2022-08-02T16:43:02.107867",
     "status": "completed"
    },
    "tags": []
   },
   "source": [
    "## 3.7 Pclass"
   ]
  },
  {
   "cell_type": "markdown",
   "id": "93ef9cc9",
   "metadata": {
    "papermill": {
     "duration": 0.025081,
     "end_time": "2022-08-02T16:43:02.183219",
     "exception": false,
     "start_time": "2022-08-02T16:43:02.158138",
     "status": "completed"
    },
    "tags": []
   },
   "source": [
    "From the previous analysis, we know that the Pclass variable has a fairly high correlation with the Fare variable. But surprisingly, the correlation is negative, while that two variables should have a positive correlation. Therefore, we will change the value of the Pclass variable to match what we expected."
   ]
  },
  {
   "cell_type": "code",
   "execution_count": 33,
   "id": "b1e8b4ed",
   "metadata": {
    "execution": {
     "iopub.execute_input": "2022-08-02T16:43:02.236426Z",
     "iopub.status.busy": "2022-08-02T16:43:02.235618Z",
     "iopub.status.idle": "2022-08-02T16:43:02.243173Z",
     "shell.execute_reply": "2022-08-02T16:43:02.242161Z"
    },
    "papermill": {
     "duration": 0.037024,
     "end_time": "2022-08-02T16:43:02.245615",
     "exception": false,
     "start_time": "2022-08-02T16:43:02.208591",
     "status": "completed"
    },
    "tags": []
   },
   "outputs": [],
   "source": [
    "df_train_prep[\"Pclass\"].replace([1,2,3], [3,2,1], inplace=True)\n",
    "df_test_prep[\"Pclass\"].replace([1,2,3], [3,2,1], inplace=True)"
   ]
  },
  {
   "cell_type": "markdown",
   "id": "a17be294",
   "metadata": {
    "papermill": {
     "duration": 0.025105,
     "end_time": "2022-08-02T16:43:02.296140",
     "exception": false,
     "start_time": "2022-08-02T16:43:02.271035",
     "status": "completed"
    },
    "tags": []
   },
   "source": [
    "## 3.8 Categorical Variable Encoding"
   ]
  },
  {
   "cell_type": "code",
   "execution_count": 34,
   "id": "ff8ae520",
   "metadata": {
    "execution": {
     "iopub.execute_input": "2022-08-02T16:43:02.348860Z",
     "iopub.status.busy": "2022-08-02T16:43:02.348417Z",
     "iopub.status.idle": "2022-08-02T16:43:02.366153Z",
     "shell.execute_reply": "2022-08-02T16:43:02.365073Z"
    },
    "papermill": {
     "duration": 0.047191,
     "end_time": "2022-08-02T16:43:02.368775",
     "exception": false,
     "start_time": "2022-08-02T16:43:02.321584",
     "status": "completed"
    },
    "tags": []
   },
   "outputs": [],
   "source": [
    "df_train_prep = pd.get_dummies(df_train_prep, prefix=[\"Sex\", \"Embarked\", \"Title\"])\n",
    "df_test_prep = pd.get_dummies(df_test_prep, prefix=[\"Sex\", \"Embarked\", \"Title\"])"
   ]
  },
  {
   "cell_type": "markdown",
   "id": "a148aee1",
   "metadata": {
    "papermill": {
     "duration": 0.025205,
     "end_time": "2022-08-02T16:43:02.419366",
     "exception": false,
     "start_time": "2022-08-02T16:43:02.394161",
     "status": "completed"
    },
    "tags": []
   },
   "source": [
    "# 4. Model Building"
   ]
  },
  {
   "cell_type": "code",
   "execution_count": 35,
   "id": "e3addc49",
   "metadata": {
    "execution": {
     "iopub.execute_input": "2022-08-02T16:43:02.473989Z",
     "iopub.status.busy": "2022-08-02T16:43:02.473168Z",
     "iopub.status.idle": "2022-08-02T16:43:02.483679Z",
     "shell.execute_reply": "2022-08-02T16:43:02.482826Z"
    },
    "papermill": {
     "duration": 0.041216,
     "end_time": "2022-08-02T16:43:02.486368",
     "exception": false,
     "start_time": "2022-08-02T16:43:02.445152",
     "status": "completed"
    },
    "tags": []
   },
   "outputs": [],
   "source": [
    "from sklearn.model_selection import train_test_split\n",
    "X = df_train_prep.drop(['Survived'],axis=1)\n",
    "y = (df_train.copy())['Survived']\n",
    "\n",
    "X_train, X_test, y_train, y_test = train_test_split(X, y, test_size=0.25, random_state=4686)\n",
    "\n",
    "\n",
    "# Split the (training) data to train and test\n",
    "\n",
    "#X_train = df_train_prep.drop(\"Survived\", axis=1)\n",
    "#y_train = df_train_prep.Survived\n",
    "\n",
    "X_fintest = df_test_prep.copy()\n"
   ]
  },
  {
   "cell_type": "code",
   "execution_count": 36,
   "id": "5106ae48",
   "metadata": {
    "execution": {
     "iopub.execute_input": "2022-08-02T16:43:02.539567Z",
     "iopub.status.busy": "2022-08-02T16:43:02.539158Z",
     "iopub.status.idle": "2022-08-02T16:43:02.595160Z",
     "shell.execute_reply": "2022-08-02T16:43:02.593955Z"
    },
    "papermill": {
     "duration": 0.086295,
     "end_time": "2022-08-02T16:43:02.598108",
     "exception": false,
     "start_time": "2022-08-02T16:43:02.511813",
     "status": "completed"
    },
    "tags": []
   },
   "outputs": [
    {
     "data": {
      "text/html": [
       "<div>\n",
       "<style scoped>\n",
       "    .dataframe tbody tr th:only-of-type {\n",
       "        vertical-align: middle;\n",
       "    }\n",
       "\n",
       "    .dataframe tbody tr th {\n",
       "        vertical-align: top;\n",
       "    }\n",
       "\n",
       "    .dataframe thead th {\n",
       "        text-align: right;\n",
       "    }\n",
       "</style>\n",
       "<table border=\"1\" class=\"dataframe\">\n",
       "  <thead>\n",
       "    <tr style=\"text-align: right;\">\n",
       "      <th></th>\n",
       "      <th>Pclass</th>\n",
       "      <th>Age</th>\n",
       "      <th>SibSp</th>\n",
       "      <th>Parch</th>\n",
       "      <th>Fare</th>\n",
       "      <th>Sex_female</th>\n",
       "      <th>Sex_male</th>\n",
       "      <th>Embarked_C</th>\n",
       "      <th>Embarked_Q</th>\n",
       "      <th>Embarked_S</th>\n",
       "      <th>Title_Master</th>\n",
       "      <th>Title_Miss</th>\n",
       "      <th>Title_Mr</th>\n",
       "      <th>Title_Mrs</th>\n",
       "      <th>Title_Other</th>\n",
       "    </tr>\n",
       "  </thead>\n",
       "  <tbody>\n",
       "    <tr>\n",
       "      <th>count</th>\n",
       "      <td>418.000000</td>\n",
       "      <td>418.000000</td>\n",
       "      <td>418.000000</td>\n",
       "      <td>418.000000</td>\n",
       "      <td>418.000000</td>\n",
       "      <td>418.000000</td>\n",
       "      <td>418.000000</td>\n",
       "      <td>418.000000</td>\n",
       "      <td>418.000000</td>\n",
       "      <td>418.000000</td>\n",
       "      <td>418.000000</td>\n",
       "      <td>418.000000</td>\n",
       "      <td>418.000000</td>\n",
       "      <td>418.000000</td>\n",
       "      <td>418.000000</td>\n",
       "    </tr>\n",
       "    <tr>\n",
       "      <th>mean</th>\n",
       "      <td>1.734450</td>\n",
       "      <td>30.106459</td>\n",
       "      <td>0.447368</td>\n",
       "      <td>0.392344</td>\n",
       "      <td>35.574673</td>\n",
       "      <td>0.363636</td>\n",
       "      <td>0.636364</td>\n",
       "      <td>0.244019</td>\n",
       "      <td>0.110048</td>\n",
       "      <td>0.645933</td>\n",
       "      <td>0.050239</td>\n",
       "      <td>0.188995</td>\n",
       "      <td>0.574163</td>\n",
       "      <td>0.172249</td>\n",
       "      <td>0.014354</td>\n",
       "    </tr>\n",
       "    <tr>\n",
       "      <th>std</th>\n",
       "      <td>0.841838</td>\n",
       "      <td>13.014864</td>\n",
       "      <td>0.896760</td>\n",
       "      <td>0.981429</td>\n",
       "      <td>55.850822</td>\n",
       "      <td>0.481622</td>\n",
       "      <td>0.481622</td>\n",
       "      <td>0.430019</td>\n",
       "      <td>0.313324</td>\n",
       "      <td>0.478803</td>\n",
       "      <td>0.218700</td>\n",
       "      <td>0.391974</td>\n",
       "      <td>0.495062</td>\n",
       "      <td>0.378049</td>\n",
       "      <td>0.119088</td>\n",
       "    </tr>\n",
       "    <tr>\n",
       "      <th>min</th>\n",
       "      <td>1.000000</td>\n",
       "      <td>0.170000</td>\n",
       "      <td>0.000000</td>\n",
       "      <td>0.000000</td>\n",
       "      <td>0.000000</td>\n",
       "      <td>0.000000</td>\n",
       "      <td>0.000000</td>\n",
       "      <td>0.000000</td>\n",
       "      <td>0.000000</td>\n",
       "      <td>0.000000</td>\n",
       "      <td>0.000000</td>\n",
       "      <td>0.000000</td>\n",
       "      <td>0.000000</td>\n",
       "      <td>0.000000</td>\n",
       "      <td>0.000000</td>\n",
       "    </tr>\n",
       "    <tr>\n",
       "      <th>25%</th>\n",
       "      <td>1.000000</td>\n",
       "      <td>22.000000</td>\n",
       "      <td>0.000000</td>\n",
       "      <td>0.000000</td>\n",
       "      <td>7.895800</td>\n",
       "      <td>0.000000</td>\n",
       "      <td>0.000000</td>\n",
       "      <td>0.000000</td>\n",
       "      <td>0.000000</td>\n",
       "      <td>0.000000</td>\n",
       "      <td>0.000000</td>\n",
       "      <td>0.000000</td>\n",
       "      <td>0.000000</td>\n",
       "      <td>0.000000</td>\n",
       "      <td>0.000000</td>\n",
       "    </tr>\n",
       "    <tr>\n",
       "      <th>50%</th>\n",
       "      <td>1.000000</td>\n",
       "      <td>30.000000</td>\n",
       "      <td>0.000000</td>\n",
       "      <td>0.000000</td>\n",
       "      <td>14.454200</td>\n",
       "      <td>0.000000</td>\n",
       "      <td>1.000000</td>\n",
       "      <td>0.000000</td>\n",
       "      <td>0.000000</td>\n",
       "      <td>1.000000</td>\n",
       "      <td>0.000000</td>\n",
       "      <td>0.000000</td>\n",
       "      <td>1.000000</td>\n",
       "      <td>0.000000</td>\n",
       "      <td>0.000000</td>\n",
       "    </tr>\n",
       "    <tr>\n",
       "      <th>75%</th>\n",
       "      <td>3.000000</td>\n",
       "      <td>36.000000</td>\n",
       "      <td>1.000000</td>\n",
       "      <td>0.000000</td>\n",
       "      <td>31.471875</td>\n",
       "      <td>1.000000</td>\n",
       "      <td>1.000000</td>\n",
       "      <td>0.000000</td>\n",
       "      <td>0.000000</td>\n",
       "      <td>1.000000</td>\n",
       "      <td>0.000000</td>\n",
       "      <td>0.000000</td>\n",
       "      <td>1.000000</td>\n",
       "      <td>0.000000</td>\n",
       "      <td>0.000000</td>\n",
       "    </tr>\n",
       "    <tr>\n",
       "      <th>max</th>\n",
       "      <td>3.000000</td>\n",
       "      <td>76.000000</td>\n",
       "      <td>8.000000</td>\n",
       "      <td>9.000000</td>\n",
       "      <td>512.329200</td>\n",
       "      <td>1.000000</td>\n",
       "      <td>1.000000</td>\n",
       "      <td>1.000000</td>\n",
       "      <td>1.000000</td>\n",
       "      <td>1.000000</td>\n",
       "      <td>1.000000</td>\n",
       "      <td>1.000000</td>\n",
       "      <td>1.000000</td>\n",
       "      <td>1.000000</td>\n",
       "      <td>1.000000</td>\n",
       "    </tr>\n",
       "  </tbody>\n",
       "</table>\n",
       "</div>"
      ],
      "text/plain": [
       "           Pclass         Age       SibSp       Parch        Fare  Sex_female  \\\n",
       "count  418.000000  418.000000  418.000000  418.000000  418.000000  418.000000   \n",
       "mean     1.734450   30.106459    0.447368    0.392344   35.574673    0.363636   \n",
       "std      0.841838   13.014864    0.896760    0.981429   55.850822    0.481622   \n",
       "min      1.000000    0.170000    0.000000    0.000000    0.000000    0.000000   \n",
       "25%      1.000000   22.000000    0.000000    0.000000    7.895800    0.000000   \n",
       "50%      1.000000   30.000000    0.000000    0.000000   14.454200    0.000000   \n",
       "75%      3.000000   36.000000    1.000000    0.000000   31.471875    1.000000   \n",
       "max      3.000000   76.000000    8.000000    9.000000  512.329200    1.000000   \n",
       "\n",
       "         Sex_male  Embarked_C  Embarked_Q  Embarked_S  Title_Master  \\\n",
       "count  418.000000  418.000000  418.000000  418.000000    418.000000   \n",
       "mean     0.636364    0.244019    0.110048    0.645933      0.050239   \n",
       "std      0.481622    0.430019    0.313324    0.478803      0.218700   \n",
       "min      0.000000    0.000000    0.000000    0.000000      0.000000   \n",
       "25%      0.000000    0.000000    0.000000    0.000000      0.000000   \n",
       "50%      1.000000    0.000000    0.000000    1.000000      0.000000   \n",
       "75%      1.000000    0.000000    0.000000    1.000000      0.000000   \n",
       "max      1.000000    1.000000    1.000000    1.000000      1.000000   \n",
       "\n",
       "       Title_Miss    Title_Mr   Title_Mrs  Title_Other  \n",
       "count  418.000000  418.000000  418.000000   418.000000  \n",
       "mean     0.188995    0.574163    0.172249     0.014354  \n",
       "std      0.391974    0.495062    0.378049     0.119088  \n",
       "min      0.000000    0.000000    0.000000     0.000000  \n",
       "25%      0.000000    0.000000    0.000000     0.000000  \n",
       "50%      0.000000    1.000000    0.000000     0.000000  \n",
       "75%      0.000000    1.000000    0.000000     0.000000  \n",
       "max      1.000000    1.000000    1.000000     1.000000  "
      ]
     },
     "execution_count": 36,
     "metadata": {},
     "output_type": "execute_result"
    }
   ],
   "source": [
    "X_fintest.describe()"
   ]
  },
  {
   "cell_type": "markdown",
   "id": "bff1e100",
   "metadata": {
    "papermill": {
     "duration": 0.025956,
     "end_time": "2022-08-02T16:43:02.649900",
     "exception": false,
     "start_time": "2022-08-02T16:43:02.623944",
     "status": "completed"
    },
    "tags": []
   },
   "source": [
    "## 4.1 Feature Scaling"
   ]
  },
  {
   "cell_type": "code",
   "execution_count": 37,
   "id": "b443554f",
   "metadata": {
    "execution": {
     "iopub.execute_input": "2022-08-02T16:43:02.807098Z",
     "iopub.status.busy": "2022-08-02T16:43:02.806638Z",
     "iopub.status.idle": "2022-08-02T16:43:02.820979Z",
     "shell.execute_reply": "2022-08-02T16:43:02.819794Z"
    },
    "papermill": {
     "duration": 0.145168,
     "end_time": "2022-08-02T16:43:02.823777",
     "exception": false,
     "start_time": "2022-08-02T16:43:02.678609",
     "status": "completed"
    },
    "tags": []
   },
   "outputs": [],
   "source": [
    "scaler = StandardScaler()\n",
    "\n",
    "X_train_scaled = scaler.fit_transform(X_train)\n",
    "X_test_scaled = scaler.transform(X_test)\n",
    "X_fintest_scaled = scaler.transform(X_fintest)"
   ]
  },
  {
   "cell_type": "code",
   "execution_count": 38,
   "id": "dc49a178",
   "metadata": {
    "execution": {
     "iopub.execute_input": "2022-08-02T16:43:02.878398Z",
     "iopub.status.busy": "2022-08-02T16:43:02.878004Z",
     "iopub.status.idle": "2022-08-02T16:43:35.571377Z",
     "shell.execute_reply": "2022-08-02T16:43:35.570343Z"
    },
    "papermill": {
     "duration": 32.750402,
     "end_time": "2022-08-02T16:43:35.600473",
     "exception": false,
     "start_time": "2022-08-02T16:43:02.850071",
     "status": "completed"
    },
    "tags": []
   },
   "outputs": [
    {
     "name": "stderr",
     "output_type": "stream",
     "text": [
      "/opt/conda/lib/python3.7/site-packages/sklearn/neural_network/_multilayer_perceptron.py:696: ConvergenceWarning: Stochastic Optimizer: Maximum iterations (1000) reached and the optimization hasn't converged yet.\n",
      "  ConvergenceWarning,\n",
      "/opt/conda/lib/python3.7/site-packages/sklearn/neural_network/_multilayer_perceptron.py:696: ConvergenceWarning: Stochastic Optimizer: Maximum iterations (1000) reached and the optimization hasn't converged yet.\n",
      "  ConvergenceWarning,\n",
      "/opt/conda/lib/python3.7/site-packages/sklearn/neural_network/_multilayer_perceptron.py:696: ConvergenceWarning: Stochastic Optimizer: Maximum iterations (1000) reached and the optimization hasn't converged yet.\n",
      "  ConvergenceWarning,\n",
      "/opt/conda/lib/python3.7/site-packages/sklearn/neural_network/_multilayer_perceptron.py:696: ConvergenceWarning: Stochastic Optimizer: Maximum iterations (1000) reached and the optimization hasn't converged yet.\n",
      "  ConvergenceWarning,\n"
     ]
    },
    {
     "data": {
      "text/plain": [
       "{'KNN': 0.8142408259454607,\n",
       " 'LR': 0.8233307148468185,\n",
       " 'DT': 0.767871170463472,\n",
       " 'RF': 0.8023454157782515,\n",
       " 'SVM': 0.8203231960498261,\n",
       " 'MLP': 0.8067781393782966,\n",
       " 'XGB': 0.8337223656155313,\n",
       " 'LGBM': 0.8277409942767366,\n",
       " 'ADA': 0.8008528784648188,\n",
       " 'GBC': 0.8067893614633599}"
      ]
     },
     "execution_count": 38,
     "metadata": {},
     "output_type": "execute_result"
    }
   ],
   "source": [
    "classifiers = {\n",
    "    \"KNN\": KNeighborsClassifier(), \n",
    "    \"LR\": LogisticRegression(max_iter=1000), \n",
    "    \"DT\": DecisionTreeClassifier(),\n",
    "    \"RF\": RandomForestClassifier(),\n",
    "    \"SVM\": SVC(),\n",
    "    \"MLP\": MLPClassifier(max_iter=1000),\n",
    "    \"XGB\": XGBClassifier(),\n",
    "    \"LGBM\": LGBMClassifier(),\n",
    "    \"ADA\" : AdaBoostClassifier(n_estimators=100),\n",
    "    \"GBC\" : GradientBoostingClassifier(n_estimators=100, learning_rate=1.0, max_depth=1, random_state=0)\n",
    "}\n",
    "\n",
    "results = dict()\n",
    "for name, clf in classifiers.items():\n",
    "    model = clf\n",
    "    cv_results = cross_validate(\n",
    "        model, X_train_scaled, y_train, cv=5,\n",
    "        scoring=('accuracy')\n",
    "    )\n",
    "\n",
    "    results[name] = cv_results['test_score'].mean()\n",
    "    \n",
    "results"
   ]
  },
  {
   "cell_type": "code",
   "execution_count": 39,
   "id": "f7e4ba5f",
   "metadata": {
    "execution": {
     "iopub.execute_input": "2022-08-02T16:43:35.655433Z",
     "iopub.status.busy": "2022-08-02T16:43:35.655010Z",
     "iopub.status.idle": "2022-08-02T16:47:17.710390Z",
     "shell.execute_reply": "2022-08-02T16:47:17.706301Z"
    },
    "papermill": {
     "duration": 222.087723,
     "end_time": "2022-08-02T16:47:17.714819",
     "exception": false,
     "start_time": "2022-08-02T16:43:35.627096",
     "status": "completed"
    },
    "tags": []
   },
   "outputs": [
    {
     "name": "stdout",
     "output_type": "stream",
     "text": [
      "LGBM Best hyperparameter: {'learning_rate': 0.1, 'max_depth': 3, 'n_estimators': 300}\n",
      "SVM Best hyperparameter: {'learning_rate': 0.05, 'max_depth': 3, 'n_estimators': 300}\n",
      "XGB Best hyperparameter: {'learning_rate': 0.1, 'max_depth': 3, 'n_estimators': 300}\n",
      "LRC Best hyperparameter: {'max_iter': 100}\n"
     ]
    }
   ],
   "source": [
    "import warnings\n",
    "warnings.filterwarnings(\"ignore\")\n",
    "\n",
    "params = {\n",
    "    #\"boosting_type\": [\"gbdt\", \"dart\", \"goss\"],\n",
    "    \"max_depth\": [1, 3, 5],\n",
    "    \"learning_rate\": [0.1, 0.05, 0.01],\n",
    "    \"n_estimators\": [10, 50, 100, 300]\n",
    "}\n",
    "params2 = {\n",
    "    \"max_iter\": [100, 300, 500, 1000]\n",
    "}\n",
    "lgbm = LGBMClassifier(random_state=0)\n",
    "lgbm_clf = GridSearchCV(lgbm, params, cv=10)\n",
    "lgbm_clf.fit(X_train_scaled, y_train)\n",
    "print(\"LGBM Best hyperparameter:\", lgbm_clf.best_params_)\n",
    "\n",
    "svm = GradientBoostingClassifier(random_state=0)\n",
    "svm_clf = GridSearchCV(svm, params, cv=10)\n",
    "svm_clf.fit(X_train_scaled, y_train)\n",
    "print(\"SVM Best hyperparameter:\", svm_clf.best_params_)\n",
    "\n",
    "xgb = XGBClassifier(random_state=0)\n",
    "xgb_clf = GridSearchCV(xgb, params, cv=10)\n",
    "xgb_clf.fit(X_train_scaled, y_train)\n",
    "print(\"XGB Best hyperparameter:\", xgb_clf.best_params_)\n",
    "\n",
    "lrc = LogisticRegression(random_state=0)\n",
    "lrc_clf = GridSearchCV(lrc, params2, cv=10)\n",
    "lrc_clf.fit(X_train_scaled, y_train)\n",
    "print(\"LRC Best hyperparameter:\", lrc_clf.best_params_)\n"
   ]
  },
  {
   "cell_type": "code",
   "execution_count": 40,
   "id": "0d4bac51",
   "metadata": {
    "execution": {
     "iopub.execute_input": "2022-08-02T16:47:17.837809Z",
     "iopub.status.busy": "2022-08-02T16:47:17.837378Z",
     "iopub.status.idle": "2022-08-02T16:50:58.963729Z",
     "shell.execute_reply": "2022-08-02T16:50:58.962468Z"
    },
    "papermill": {
     "duration": 221.253848,
     "end_time": "2022-08-02T16:50:59.035654",
     "exception": false,
     "start_time": "2022-08-02T16:47:17.781806",
     "status": "completed"
    },
    "tags": []
   },
   "outputs": [
    {
     "name": "stdout",
     "output_type": "stream",
     "text": [
      "              precision    recall  f1-score   support\n",
      "\n",
      "           0       0.92      0.97      0.95       407\n",
      "           1       0.95      0.87      0.91       261\n",
      "\n",
      "    accuracy                           0.93       668\n",
      "   macro avg       0.94      0.92      0.93       668\n",
      "weighted avg       0.93      0.93      0.93       668\n",
      "\n"
     ]
    }
   ],
   "source": [
    "from sklearn.ensemble import VotingClassifier\n",
    "\n",
    "# Use the accuracies for test data as the weights\n",
    "vote_clf = VotingClassifier(\n",
    "    estimators= [('lgbm', lgbm_clf), ('svm', svm_clf), ('xgb', xgb_clf), ('lrc', lrc_clf)],\n",
    "    voting='hard'\n",
    ")\n",
    "\n",
    "vote_clf.fit(X_train_scaled, y_train)\n",
    "pred_vote = vote_clf.predict(X_train_scaled)\n",
    "print(classification_report(y_train, pred_vote))\n",
    "#np.mean(cross_val_score(vote_clf, X_train_scaled, y_train, cv=10), 0)\n",
    "#pred_vote_test = vote_clf.predict(X_test)\n",
    "#print(classification_report(y_test, pred_vote_test))\n",
    "\n",
    "#vote_clf2 = VotingClassifier(\n",
    "#    estimators= [('lr', lr_clf), ('svc', svc_chosen), ('rf', random_forest)],\n",
    "#    voting='hard'\n",
    "#)\n",
    "\n",
    "#vote_clf2.fit(X_train, y_train)\n",
    "#pred_vote2 = vote_clf2.predict(X_train)\n",
    "#print(classification_report(y_train, pred_vote2))"
   ]
  },
  {
   "cell_type": "code",
   "execution_count": 41,
   "id": "b2018024",
   "metadata": {
    "execution": {
     "iopub.execute_input": "2022-08-02T16:50:59.107610Z",
     "iopub.status.busy": "2022-08-02T16:50:59.107236Z",
     "iopub.status.idle": "2022-08-02T17:20:21.603180Z",
     "shell.execute_reply": "2022-08-02T17:20:21.601843Z"
    },
    "papermill": {
     "duration": 1762.545535,
     "end_time": "2022-08-02T17:20:21.624637",
     "exception": false,
     "start_time": "2022-08-02T16:50:59.079102",
     "status": "completed"
    },
    "tags": []
   },
   "outputs": [
    {
     "data": {
      "text/plain": [
       "0.8442340791738382"
      ]
     },
     "execution_count": 41,
     "metadata": {},
     "output_type": "execute_result"
    }
   ],
   "source": [
    "np.mean(cross_val_score(vote_clf, X_train_scaled, y_train, cv=8), 0)\n",
    "#pred_vote_test = vote_clf.predict(X_test)\n",
    "#print(classification_report(y_test, pred_vote_test))"
   ]
  },
  {
   "cell_type": "code",
   "execution_count": 42,
   "id": "63ac4277",
   "metadata": {
    "execution": {
     "iopub.execute_input": "2022-08-02T17:20:21.750900Z",
     "iopub.status.busy": "2022-08-02T17:20:21.750478Z",
     "iopub.status.idle": "2022-08-02T17:20:21.785287Z",
     "shell.execute_reply": "2022-08-02T17:20:21.784166Z"
    },
    "papermill": {
     "duration": 0.066333,
     "end_time": "2022-08-02T17:20:21.788444",
     "exception": false,
     "start_time": "2022-08-02T17:20:21.722111",
     "status": "completed"
    },
    "tags": []
   },
   "outputs": [
    {
     "name": "stdout",
     "output_type": "stream",
     "text": [
      "              precision    recall  f1-score   support\n",
      "\n",
      "           0       0.88      0.86      0.87       145\n",
      "           1       0.75      0.78      0.77        78\n",
      "\n",
      "    accuracy                           0.83       223\n",
      "   macro avg       0.82      0.82      0.82       223\n",
      "weighted avg       0.84      0.83      0.83       223\n",
      "\n"
     ]
    }
   ],
   "source": [
    "y_test_pred = vote_clf.predict(X_test_scaled)\n",
    "print(classification_report(y_test_pred, y_test))\n"
   ]
  },
  {
   "cell_type": "code",
   "execution_count": 43,
   "id": "347acfd8",
   "metadata": {
    "execution": {
     "iopub.execute_input": "2022-08-02T17:20:21.844718Z",
     "iopub.status.busy": "2022-08-02T17:20:21.843680Z",
     "iopub.status.idle": "2022-08-02T17:20:21.893996Z",
     "shell.execute_reply": "2022-08-02T17:20:21.893018Z"
    },
    "papermill": {
     "duration": 0.081034,
     "end_time": "2022-08-02T17:20:21.896744",
     "exception": false,
     "start_time": "2022-08-02T17:20:21.815710",
     "status": "completed"
    },
    "tags": []
   },
   "outputs": [
    {
     "name": "stdout",
     "output_type": "stream",
     "text": [
      "Your submission was successfully saved!\n"
     ]
    }
   ],
   "source": [
    "y_pred = vote_clf.predict(X_fintest_scaled)\n",
    "\n",
    "submission = pd.DataFrame({\n",
    "    \"PassengerId\": df_test[\"PassengerId\"],\n",
    "    \"Survived\": y_pred })\n",
    "submission.to_csv('submission.csv', index=False)\n",
    "print(\"Your submission was successfully saved!\")\n",
    "\n"
   ]
  },
  {
   "cell_type": "code",
   "execution_count": null,
   "id": "6f1624cb",
   "metadata": {
    "papermill": {
     "duration": 0.02631,
     "end_time": "2022-08-02T17:20:21.949855",
     "exception": false,
     "start_time": "2022-08-02T17:20:21.923545",
     "status": "completed"
    },
    "tags": []
   },
   "outputs": [],
   "source": []
  }
 ],
 "metadata": {
  "kernelspec": {
   "display_name": "Python 3",
   "language": "python",
   "name": "python3"
  },
  "language_info": {
   "codemirror_mode": {
    "name": "ipython",
    "version": 3
   },
   "file_extension": ".py",
   "mimetype": "text/x-python",
   "name": "python",
   "nbconvert_exporter": "python",
   "pygments_lexer": "ipython3",
   "version": "3.7.12"
  },
  "papermill": {
   "default_parameters": {},
   "duration": 2263.969925,
   "end_time": "2022-08-02T17:20:22.904363",
   "environment_variables": {},
   "exception": null,
   "input_path": "__notebook__.ipynb",
   "output_path": "__notebook__.ipynb",
   "parameters": {},
   "start_time": "2022-08-02T16:42:38.934438",
   "version": "2.3.4"
  }
 },
 "nbformat": 4,
 "nbformat_minor": 5
}
